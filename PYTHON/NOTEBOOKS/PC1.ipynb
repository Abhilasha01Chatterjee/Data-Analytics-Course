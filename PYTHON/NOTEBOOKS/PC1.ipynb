{
 "cells": [
  {
   "cell_type": "code",
   "execution_count": 1,
   "id": "5f990a6c-addd-412e-8ba4-e6eb824695d3",
   "metadata": {},
   "outputs": [],
   "source": [
    "import numpy as np\n",
    "from sklearn.decomposition import PCA\n",
    " "
   ]
  },
  {
   "cell_type": "code",
   "execution_count": 2,
   "id": "c52400cd-9e8e-4dd0-8fcc-d9b8b0159143",
   "metadata": {},
   "outputs": [
    {
     "name": "stdout",
     "output_type": "stream",
     "text": [
      "[[ 0.69965632  0.46123401  0.54565943]\n",
      " [ 0.51569408  0.20258759 -0.83247696]]\n"
     ]
    }
   ],
   "source": [
    "X = np.array([[-1, -1, 4], [-2, -1, 5], [-3, -2, 6], [1, 1, 8], [2, 1, 8], [3, 2, 9]])\n",
    "X\n",
    "pca = PCA(n_components=2)\n",
    "pca.fit(X)\n",
    "print(pca.components_)\n",
    "# here pca.components_ gives Principal axes in feature space, representing the \n",
    "#directions of maximum variance in the data"
   ]
  },
  {
   "cell_type": "code",
   "execution_count": null,
   "id": "4e469657-a35f-4d3a-8ef2-55ff537e5613",
   "metadata": {},
   "outputs": [],
   "source": []
  },
  {
   "cell_type": "code",
   "execution_count": null,
   "id": "df2cdd36-b228-4c6d-8187-126b871d0342",
   "metadata": {},
   "outputs": [],
   "source": []
  }
 ],
 "metadata": {
  "kernelspec": {
   "display_name": "Python 3 (ipykernel)",
   "language": "python",
   "name": "python3"
  },
  "language_info": {
   "codemirror_mode": {
    "name": "ipython",
    "version": 3
   },
   "file_extension": ".py",
   "mimetype": "text/x-python",
   "name": "python",
   "nbconvert_exporter": "python",
   "pygments_lexer": "ipython3",
   "version": "3.9.13"
  }
 },
 "nbformat": 4,
 "nbformat_minor": 5
}
