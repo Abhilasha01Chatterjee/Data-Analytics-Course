{
 "cells": [
  {
   "cell_type": "code",
   "execution_count": 16,
   "id": "86b8845a-1155-464d-b9a7-ef071dfcd955",
   "metadata": {},
   "outputs": [
    {
     "name": "stdout",
     "output_type": "stream",
     "text": [
      "2023-09-23 19:08:09.491853\n",
      "09\n"
     ]
    }
   ],
   "source": [
    "import datetime\n",
    "x = datetime.datetime.now()\n",
    "print(x) \n",
    "print(x.strftime(\"%S\"))"
   ]
  },
  {
   "cell_type": "code",
   "execution_count": 29,
   "id": "881f7746-e2e3-4472-8974-0e2407b20afb",
   "metadata": {},
   "outputs": [
    {
     "name": "stdout",
     "output_type": "stream",
     "text": [
      "Current time: 21:07:10.286572\n"
     ]
    }
   ],
   "source": [
    "import datetime\n",
    "\n",
    "# Get the current time\n",
    "current_time = datetime.datetime.now().time()\n",
    "\n",
    "# Print the current time\n",
    "print(\"Current time:\", current_time)"
   ]
  },
  {
   "cell_type": "code",
   "execution_count": 32,
   "id": "1f1471e9-efa4-40f9-bedf-88e6a687d8be",
   "metadata": {},
   "outputs": [
    {
     "name": "stdout",
     "output_type": "stream",
     "text": [
      "Day:  23\n",
      "Month:  9\n",
      "Year:  2023\n",
      "Hour:  21\n",
      "Minute:  9\n",
      "Second:  23\n"
     ]
    }
   ],
   "source": [
    "from datetime import datetime\n",
    "dt = datetime.now()\n",
    "print(\"Day: \", dt.day)\n",
    "print(\"Month: \", dt.month)\n",
    "print(\"Year: \", dt.year)\n",
    "print(\"Hour: \", dt.hour)\n",
    "print(\"Minute: \", dt.minute)\n",
    "print(\"Second: \", dt.second)"
   ]
  },
  {
   "cell_type": "code",
   "execution_count": 8,
   "id": "6ad9cd37-99de-4554-ae4e-96e2435c852a",
   "metadata": {},
   "outputs": [
    {
     "name": "stdout",
     "output_type": "stream",
     "text": [
      "September\n",
      "2023\n",
      "23\n",
      "Sunday\n",
      "Sun\n",
      "Sunday\n",
      "00\n"
     ]
    }
   ],
   "source": [
    "import datetime\n",
    "\n",
    "x = datetime.datetime(2023, 9, 24)\n",
    "\n",
    "print(x.strftime(\"%B\")) \n",
    "print(x.strftime(\"%Y\")) \n",
    "print(x.strftime(\"%y\")) \n",
    "print(x.strftime(\"%A\"))\n",
    "print(x.strftime(\"%a\"))\n",
    "print(x.strftime(\"%A\"))\n",
    " \n"
   ]
  },
  {
   "cell_type": "markdown",
   "id": "0c5ac7ff-85f9-4459-a65c-c213969feafa",
   "metadata": {},
   "source": [
    "#Formatting Dates and Times:"
   ]
  },
  {
   "cell_type": "code",
   "execution_count": 14,
   "id": "32971d9e-3862-46f1-b991-346e2d90e004",
   "metadata": {},
   "outputs": [
    {
     "name": "stdout",
     "output_type": "stream",
     "text": [
      "Current datetime: 2023-09-23 19:07:17.253385\n",
      "Formatted date: 2023-09-23\n",
      "Formatted time: 19:07:17\n"
     ]
    }
   ],
   "source": [
    "import datetime\n",
    "current_datetime = datetime.datetime.now()\n",
    "print(\"Current datetime:\", current_datetime)\n",
    "formatted_date = current_datetime.strftime(\"%Y-%m-%d\")\n",
    "formatted_time = current_datetime.strftime(\"%H:%M:%S\")\n",
    "print(\"Formatted date:\", formatted_date)\n",
    "print(\"Formatted time:\", formatted_time)"
   ]
  },
  {
   "cell_type": "code",
   "execution_count": 20,
   "id": "7e5d732c-cde6-4f98-9f08-9ad8c30240f2",
   "metadata": {},
   "outputs": [
    {
     "name": "stdout",
     "output_type": "stream",
     "text": [
      "Date 3 days later: 2023-09-26 19:07:17.253385\n"
     ]
    }
   ],
   "source": [
    "# Adding 3 days to the current date \n",
    "three_days_later = current_datetime + datetime.timedelta(days=3)\n",
    "print(\"Date 3 days later:\", three_days_later) \n"
   ]
  },
  {
   "cell_type": "code",
   "execution_count": 21,
   "id": "55090229-a923-4c74-ae83-802d4224e616",
   "metadata": {},
   "outputs": [
    {
     "name": "stdout",
     "output_type": "stream",
     "text": [
      "Is date1 earlier than date2? True\n",
      "Is date1 equal to date2? False\n",
      "Is date1 later than date2? False\n"
     ]
    }
   ],
   "source": [
    "#Comparison of two dates \n",
    "import datetime\n",
    "\n",
    "# Creating two datetime objects\n",
    "date1 = datetime.datetime(2023, 9, 23)\n",
    "date2 = datetime.datetime(2023, 9, 30)\n",
    "\n",
    "# Comparing dates\n",
    "print(\"Is date1 earlier than date2?\", date1 < date2)\n",
    "print(\"Is date1 equal to date2?\", date1 == date2)\n",
    "print(\"Is date1 later than date2?\", date1 > date2)"
   ]
  },
  {
   "cell_type": "code",
   "execution_count": 22,
   "id": "a25150b0-fe55-4a72-9409-656333806ff8",
   "metadata": {},
   "outputs": [
    {
     "name": "stdout",
     "output_type": "stream",
     "text": [
      "Time difference: 6 days, 4:52:42.746615\n"
     ]
    }
   ],
   "source": [
    "other_datetime = datetime.datetime(2023, 9, 30)\n",
    "time_difference = other_datetime - current_datetime\n",
    "print(\"Time difference:\", time_difference)"
   ]
  },
  {
   "cell_type": "code",
   "execution_count": 24,
   "id": "244ce4b7-6014-41c5-aa63-a649a428bbf2",
   "metadata": {},
   "outputs": [
    {
     "name": "stdout",
     "output_type": "stream",
     "text": [
      "Time difference: 7 days, 2:30:00\n",
      "Days: 7\n",
      "Seconds: 9000\n"
     ]
    }
   ],
   "source": [
    "import datetime\n",
    "\n",
    "# Create two datetime objects\n",
    "date1 = datetime.datetime(2023, 9, 23, 12, 0, 0)  # September 23, 2023, 12:00 PM\n",
    "date2 = datetime.datetime(2023, 9, 30, 14, 30, 0)  # September 30, 2023, 2:30 PM\n",
    "\n",
    "# Calculate the time difference\n",
    "time_difference = date2 - date1\n",
    "\n",
    "# Print the time difference\n",
    "print(\"Time difference:\", time_difference)\n",
    "\n",
    "# Access individual components of the time difference\n",
    "print(\"Days:\", time_difference.days)\n",
    "print(\"Seconds:\", time_difference.seconds)"
   ]
  },
  {
   "cell_type": "code",
   "execution_count": 25,
   "id": "a0572619-4254-4d40-8aa1-01a280544129",
   "metadata": {},
   "outputs": [
    {
     "name": "stdout",
     "output_type": "stream",
     "text": [
      "Here is the calendar of Month 4 of Year 2023:\n",
      "     April 2023\n",
      "Mo Tu We Th Fr Sa Su\n",
      "                1  2\n",
      " 3  4  5  6  7  8  9\n",
      "10 11 12 13 14 15 16\n",
      "17 18 19 20 21 22 23\n",
      "24 25 26 27 28 29 30\n",
      "\n"
     ]
    }
   ],
   "source": [
    "import calendar \n",
    "cal = calendar.month(2023, 4)\n",
    "print (\"Here is the calendar of Month 4 of Year 2023:\") \n",
    "print (cal) \n"
   ]
  },
  {
   "cell_type": "code",
   "execution_count": 26,
   "id": "78441973-d48c-4305-8db7-b30af609c959",
   "metadata": {},
   "outputs": [
    {
     "name": "stdout",
     "output_type": "stream",
     "text": [
      "                                  2020\n",
      "\n",
      "      January                   February                   March\n",
      "Mo Tu We Th Fr Sa Su      Mo Tu We Th Fr Sa Su      Mo Tu We Th Fr Sa Su\n",
      "       1  2  3  4  5                      1  2                         1\n",
      " 6  7  8  9 10 11 12       3  4  5  6  7  8  9       2  3  4  5  6  7  8\n",
      "13 14 15 16 17 18 19      10 11 12 13 14 15 16       9 10 11 12 13 14 15\n",
      "20 21 22 23 24 25 26      17 18 19 20 21 22 23      16 17 18 19 20 21 22\n",
      "27 28 29 30 31            24 25 26 27 28 29         23 24 25 26 27 28 29\n",
      "                                                    30 31\n",
      "\n",
      "       April                      May                       June\n",
      "Mo Tu We Th Fr Sa Su      Mo Tu We Th Fr Sa Su      Mo Tu We Th Fr Sa Su\n",
      "       1  2  3  4  5                   1  2  3       1  2  3  4  5  6  7\n",
      " 6  7  8  9 10 11 12       4  5  6  7  8  9 10       8  9 10 11 12 13 14\n",
      "13 14 15 16 17 18 19      11 12 13 14 15 16 17      15 16 17 18 19 20 21\n",
      "20 21 22 23 24 25 26      18 19 20 21 22 23 24      22 23 24 25 26 27 28\n",
      "27 28 29 30               25 26 27 28 29 30 31      29 30\n",
      "\n",
      "        July                     August                  September\n",
      "Mo Tu We Th Fr Sa Su      Mo Tu We Th Fr Sa Su      Mo Tu We Th Fr Sa Su\n",
      "       1  2  3  4  5                      1  2          1  2  3  4  5  6\n",
      " 6  7  8  9 10 11 12       3  4  5  6  7  8  9       7  8  9 10 11 12 13\n",
      "13 14 15 16 17 18 19      10 11 12 13 14 15 16      14 15 16 17 18 19 20\n",
      "20 21 22 23 24 25 26      17 18 19 20 21 22 23      21 22 23 24 25 26 27\n",
      "27 28 29 30 31            24 25 26 27 28 29 30      28 29 30\n",
      "                          31\n",
      "\n",
      "      October                   November                  December\n",
      "Mo Tu We Th Fr Sa Su      Mo Tu We Th Fr Sa Su      Mo Tu We Th Fr Sa Su\n",
      "          1  2  3  4                         1          1  2  3  4  5  6\n",
      " 5  6  7  8  9 10 11       2  3  4  5  6  7  8       7  8  9 10 11 12 13\n",
      "12 13 14 15 16 17 18       9 10 11 12 13 14 15      14 15 16 17 18 19 20\n",
      "19 20 21 22 23 24 25      16 17 18 19 20 21 22      21 22 23 24 25 26 27\n",
      "26 27 28 29 30 31         23 24 25 26 27 28 29      28 29 30 31\n",
      "                          30\n"
     ]
    }
   ],
   "source": [
    "import calendar    \n",
    "#printing the calendar of the year 2019    \n",
    "s = calendar.prcal(2020)  "
   ]
  },
  {
   "cell_type": "code",
   "execution_count": 27,
   "id": "76539c22-2cd7-4bdc-ad54-8debb3905ee0",
   "metadata": {},
   "outputs": [
    {
     "name": "stdout",
     "output_type": "stream",
     "text": [
      "Minimum Date: 0001-01-01\n",
      "Maximum Date: 9999-12-31\n",
      "Year: 2023\n",
      "Month: 4\n",
      "Day: 20\n"
     ]
    }
   ],
   "source": [
    "from datetime import date\n",
    "\n",
    "# Getting min date\n",
    "mindate = date.min\n",
    "print(\"Minimum Date:\", mindate)\n",
    "\n",
    "# Getting max date\n",
    "maxdate = date.max\n",
    "print(\"Maximum Date:\", maxdate)\n",
    "\n",
    "Date1 = date(2023, 4, 20)\n",
    "print(\"Year:\", Date1.year)\n",
    "print(\"Month:\", Date1.month)\n",
    "print(\"Day:\", Date1.day)"
   ]
  },
  {
   "cell_type": "code",
   "execution_count": 30,
   "id": "ed3a1b36-c213-4c81-8006-c73e145eab83",
   "metadata": {},
   "outputs": [
    {
     "ename": "SyntaxError",
     "evalue": "unexpected EOF while parsing (2355374756.py, line 9)",
     "output_type": "error",
     "traceback": [
      "\u001b[1;36m  File \u001b[1;32m\"C:\\Users\\skuma\\AppData\\Local\\Temp\\ipykernel_30632\\2355374756.py\"\u001b[1;36m, line \u001b[1;32m9\u001b[0m\n\u001b[1;33m    print(\"Second: \", dt.second\u001b[0m\n\u001b[1;37m                               ^\u001b[0m\n\u001b[1;31mSyntaxError\u001b[0m\u001b[1;31m:\u001b[0m unexpected EOF while parsing\n"
     ]
    }
   ],
   "source": [
    "from datetime import datetime\n",
    "dt = datetime.now()\n",
    "print(\"Day: \", dt.day)\n",
    "print(\"Month: \", dt.month)\n",
    "print(\"Year: \", dt.year)\n",
    "print(\"Hour: \", dt.hour)\n",
    "print(\"Minute: \", dt.minute)\n",
    "print(\"Second: \", dt.second"
   ]
  },
  {
   "cell_type": "code",
   "execution_count": null,
   "id": "f5c24a97-2c40-48d8-aff3-d28a1765a80a",
   "metadata": {},
   "outputs": [],
   "source": []
  }
 ],
 "metadata": {
  "kernelspec": {
   "display_name": "Python 3 (ipykernel)",
   "language": "python",
   "name": "python3"
  },
  "language_info": {
   "codemirror_mode": {
    "name": "ipython",
    "version": 3
   },
   "file_extension": ".py",
   "mimetype": "text/x-python",
   "name": "python",
   "nbconvert_exporter": "python",
   "pygments_lexer": "ipython3",
   "version": "3.11.4"
  }
 },
 "nbformat": 4,
 "nbformat_minor": 5
}
