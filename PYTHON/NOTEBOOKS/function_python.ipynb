{
 "cells": [
  {
   "cell_type": "markdown",
   "id": "a11dc90e-63e7-4715-832d-c90a16e2ce11",
   "metadata": {},
   "source": [
    "break and continue are control flow statements in Python used to alter the flow of loops, typically for and while loops"
   ]
  },
  {
   "cell_type": "markdown",
   "id": "bed9463c-7d70-454c-b1f9-cd688cb10b1a",
   "metadata": {},
   "source": [
    "1. break Statement:\n",
    "\n",
    "The break statement is used to exit a loop prematurely. When a break statement is encountered within a loop, the loop is terminated, and the program proceeds to the next statement following the loop."
   ]
  },
  {
   "cell_type": "code",
   "execution_count": 1,
   "id": "b8637e88-8287-4cec-b90b-4acc9bce5ba9",
   "metadata": {},
   "outputs": [
    {
     "name": "stdout",
     "output_type": "stream",
     "text": [
      "0\n",
      "1\n",
      "2\n",
      "3\n",
      "4\n"
     ]
    }
   ],
   "source": [
    "for i in range(10):\n",
    "    if i == 5:\n",
    "        break  # Exit the loop when i is 5\n",
    "    print(i)"
   ]
  },
  {
   "cell_type": "markdown",
   "id": "69d887cc-13ff-4c61-bad0-78554f5a0164",
   "metadata": {},
   "source": [
    "2. continue Statement:\n",
    "The continue statement is used to skip the rest of the current iteration of a loop and move to the next iteration."
   ]
  },
  {
   "cell_type": "code",
   "execution_count": 2,
   "id": "74bd843c-e9ef-4d68-b04c-fa4b97888633",
   "metadata": {},
   "outputs": [
    {
     "name": "stdout",
     "output_type": "stream",
     "text": [
      "0\n",
      "1\n",
      "2\n",
      "3\n",
      "4\n",
      "6\n",
      "7\n",
      "8\n",
      "9\n"
     ]
    }
   ],
   "source": [
    "for i in range(10):\n",
    "    if i == 5:\n",
    "        continue  # Skip the rest of the iteration when i is 5\n",
    "    print(i)"
   ]
  },
  {
   "cell_type": "code",
   "execution_count": 4,
   "id": "aefdb5de-5ad2-4af0-b97f-d8b16d55a9a1",
   "metadata": {},
   "outputs": [
    {
     "name": "stdout",
     "output_type": "stream",
     "text": [
      "1\n",
      "3\n",
      "5\n"
     ]
    }
   ],
   "source": [
    "for i in range(10):\n",
    "    if i == 7:\n",
    "        break  # Exit the loop when i is 5\n",
    "    if i % 2 == 0:\n",
    "        continue  # Skip even numbers\n",
    "    print(i)"
   ]
  },
  {
   "cell_type": "code",
   "execution_count": 10,
   "id": "e58f7839-5ad2-418b-9283-9da2e9a55343",
   "metadata": {},
   "outputs": [],
   "source": [
    "def fact1(n):\n",
    "    ans = 1\n",
    "    for i in range(2,n+1):\n",
    "        ans = ans * i\n",
    "    return ans\n"
   ]
  },
  {
   "cell_type": "code",
   "execution_count": null,
   "id": "6f0c99fe-4cc3-4033-b9b2-f45547d1dd17",
   "metadata": {},
   "outputs": [],
   "source": []
  },
  {
   "cell_type": "code",
   "execution_count": 11,
   "id": "7479e412-0c19-4728-8e96-d8d935b283d1",
   "metadata": {},
   "outputs": [
    {
     "data": {
      "text/plain": [
       "120"
      ]
     },
     "execution_count": 11,
     "metadata": {},
     "output_type": "execute_result"
    }
   ],
   "source": [
    "fact1(5)"
   ]
  },
  {
   "cell_type": "code",
   "execution_count": 8,
   "id": "dcce124b-9db2-467e-b382-d6aa83ad9358",
   "metadata": {},
   "outputs": [],
   "source": [
    "def fact2(n):\n",
    "    if n < 1:\n",
    "        return 1\n",
    "    else:\n",
    "        return n * fact2(n - 1)\n"
   ]
  },
  {
   "cell_type": "code",
   "execution_count": 9,
   "id": "84ac3d79-8bf6-4f1f-b68e-eeed43db555f",
   "metadata": {},
   "outputs": [
    {
     "data": {
      "text/plain": [
       "120"
      ]
     },
     "execution_count": 9,
     "metadata": {},
     "output_type": "execute_result"
    }
   ],
   "source": [
    "fact2(5)"
   ]
  },
  {
   "cell_type": "code",
   "execution_count": 12,
   "id": "cdd13c71-aea2-41c3-aacf-8f104cfe6125",
   "metadata": {},
   "outputs": [
    {
     "name": "stdin",
     "output_type": "stream",
     "text": [
      "Enter a number:  5\n"
     ]
    },
    {
     "name": "stdout",
     "output_type": "stream",
     "text": [
      "Factorial: 120\n"
     ]
    }
   ],
   "source": [
    "def factorial_iterative(n):\n",
    "    if n < 0:\n",
    "        return \"Factorial is not defined for negative numbers\"\n",
    "    elif n == 0 or n == 1:\n",
    "        return 1\n",
    "    else:\n",
    "        result = 1\n",
    "        for i in range(2, n + 1):\n",
    "            result *= i\n",
    "        return result\n",
    "\n",
    "number = int(input(\"Enter a number: \"))\n",
    "print(\"Factorial:\", factorial_iterative(number))\n",
    "\n"
   ]
  },
  {
   "cell_type": "code",
   "execution_count": 8,
   "id": "54ecb45c-a52a-4a05-8d19-b568f883cb12",
   "metadata": {},
   "outputs": [
    {
     "name": "stdout",
     "output_type": "stream",
     "text": [
      "9\n"
     ]
    }
   ],
   "source": [
    "def square(x):\n",
    " #return x * x \n",
    " print(x * x)\n",
    "square(3)"
   ]
  },
  {
   "cell_type": "code",
   "execution_count": 6,
   "id": "abeb349b-224a-4273-bc8d-77bc5cdb3e8a",
   "metadata": {},
   "outputs": [
    {
     "data": {
      "text/plain": [
       "9"
      ]
     },
     "execution_count": 6,
     "metadata": {},
     "output_type": "execute_result"
    }
   ],
   "source": [
    "square(3)"
   ]
  },
  {
   "cell_type": "code",
   "execution_count": 9,
   "id": "404bf99c-33c1-4882-b578-7c28ab4afc18",
   "metadata": {},
   "outputs": [],
   "source": [
    "def add_numbers(a, b): \n",
    " sum = a + b \n",
    " return sum \n"
   ]
  },
  {
   "cell_type": "code",
   "execution_count": 11,
   "id": "03f21d8f-66a9-4f96-a4e2-7e7b3e8fdfa1",
   "metadata": {},
   "outputs": [
    {
     "data": {
      "text/plain": [
       "54"
      ]
     },
     "execution_count": 11,
     "metadata": {},
     "output_type": "execute_result"
    }
   ],
   "source": [
    "add_numbers(49,5)"
   ]
  },
  {
   "cell_type": "code",
   "execution_count": 1,
   "id": "d513cabf-2d42-4d58-8392-f86093f967a3",
   "metadata": {},
   "outputs": [
    {
     "name": "stdout",
     "output_type": "stream",
     "text": [
      "The original string is : Good Morning\n",
      "The reversed string(using loops) is : gninroM dooG\n"
     ]
    }
   ],
   "source": [
    "def reverse(s):\n",
    "    str = \"\"\n",
    "    for i in s:\n",
    "        str = i + str\n",
    "    return str\n",
    " \n",
    "s = \"Good Morning\"\n",
    " \n",
    "print(\"The original string is : \", end=\"\")\n",
    "print(s)\n",
    " \n",
    "print(\"The reversed string(using loops) is : \", end=\"\")\n",
    "print(reverse(s))"
   ]
  },
  {
   "cell_type": "code",
   "execution_count": 19,
   "id": "1e046e77-0910-43ee-8977-99c8993417ff",
   "metadata": {},
   "outputs": [],
   "source": [
    "def is_leap_year(year):\n",
    "    if (year % 4 == 0 and year % 100 != 0) or (year % 400 == 0):\n",
    "        print(\"year is a leap year\")\n",
    "    else:\n",
    "         print(\"year is not a leap year\")"
   ]
  },
  {
   "cell_type": "code",
   "execution_count": 21,
   "id": "c05791c0-87dc-47e8-b93a-74198baafc12",
   "metadata": {},
   "outputs": [
    {
     "name": "stdin",
     "output_type": "stream",
     "text": [
      "Enter a year:  1700\n"
     ]
    },
    {
     "name": "stdout",
     "output_type": "stream",
     "text": [
      "year is not a leap year\n"
     ]
    }
   ],
   "source": [
    "def is_leap_year(year):\n",
    "    if (year % 4 == 0 and year % 100 != 0) or (year % 400 == 0):\n",
    "        print(\"year is a leap year\")\n",
    "    else:\n",
    "         print(\"year is not a leap year\")            \n",
    "year = int(input(\"Enter a year: \"))\n",
    "is_leap_year(year)"
   ]
  },
  {
   "cell_type": "code",
   "execution_count": 2,
   "id": "bab0dd6a-ed8f-4277-a7f6-812c2e175dbb",
   "metadata": {},
   "outputs": [
    {
     "name": "stdout",
     "output_type": "stream",
     "text": [
      "year is a leap year\n"
     ]
    }
   ],
   "source": [
    "is_leap_year(1996)"
   ]
  },
  {
   "cell_type": "code",
   "execution_count": 13,
   "id": "e4fa35c0-0c36-4c5b-9f34-4d11e0d95069",
   "metadata": {},
   "outputs": [],
   "source": [
    "def is_palindrome(number):\n",
    "    original_number = number\n",
    "    reversed_number = 0\n",
    "\n",
    "    while number > 0:\n",
    "        digit = number % 10\n",
    "        reversed_number = reversed_number * 10 + digit\n",
    "        number =number// 10 \n",
    "\n",
    "    if original_number == reversed_number:\n",
    "        print(\"given number is palindrome\")\n",
    "    else:\n",
    "        print(\"given number is not palindrome\")\n"
   ]
  },
  {
   "cell_type": "code",
   "execution_count": 15,
   "id": "06e8c3ab-c4d8-48aa-9fe8-3f8fc0d53669",
   "metadata": {},
   "outputs": [
    {
     "name": "stdout",
     "output_type": "stream",
     "text": [
      "given number is not palindrome\n"
     ]
    }
   ],
   "source": [
    "is_palindrome(1210)"
   ]
  },
  {
   "cell_type": "code",
   "execution_count": 20,
   "id": "fdad2f7a-dea9-4098-92ca-e8f1edb2cc63",
   "metadata": {},
   "outputs": [
    {
     "name": "stdout",
     "output_type": "stream",
     "text": [
      "number is not perfect\n"
     ]
    }
   ],
   "source": [
    "def is_perfect_number(number):\n",
    "    if number <= 0:\n",
    "        print(\"invalid input\")\n",
    "\n",
    "    divisor_sum = 0\n",
    "    for i in range(1, number):\n",
    "        if number % i == 0:\n",
    "            divisor_sum += i\n",
    "\n",
    "    if divisor_sum == number:\n",
    "       print(\"number is perfect\")\n",
    "    else:\n",
    "       print(\"number is not perfect\")\n",
    "is_perfect_number(16)"
   ]
  },
  {
   "cell_type": "code",
   "execution_count": 21,
   "id": "ca7df7ff-dc80-414b-b3d2-4d99048d4be4",
   "metadata": {},
   "outputs": [
    {
     "data": {
      "text/plain": [
       "True"
      ]
     },
     "execution_count": 21,
     "metadata": {},
     "output_type": "execute_result"
    }
   ],
   "source": [
    "def is_perfect_number(number):\n",
    "    if number <= 0:\n",
    "        return False\n",
    "\n",
    "    divisor_sum = 0\n",
    "    for i in range(1, number):\n",
    "        if number % i == 0:\n",
    "            divisor_sum += i\n",
    "\n",
    "    return divisor_sum == number\n",
    "is_perfect_number(6)"
   ]
  },
  {
   "cell_type": "code",
   "execution_count": 12,
   "id": "7a7cb0cc-e537-4254-a680-eebe5443aaa4",
   "metadata": {},
   "outputs": [
    {
     "name": "stdin",
     "output_type": "stream",
     "text": [
      "Enter the principal amount:  100\n",
      "Enter the interest rate (%):  10\n",
      "Enter the time (in years):  5\n"
     ]
    },
    {
     "name": "stdout",
     "output_type": "stream",
     "text": [
      "50.0\n",
      "150.0\n"
     ]
    }
   ],
   "source": [
    "def calculate_simple_interest(principal, rate, time):\n",
    "    interest = (principal * rate * time) / 100\n",
    "    return interest\n",
    "\n",
    "principal = float(input(\"Enter the principal amount: \"))\n",
    "rate = float(input(\"Enter the interest rate (%): \"))\n",
    "time = float(input(\"Enter the time (in years): \"))\n",
    "\n",
    "interest = calculate_simple_interest(principal, rate, time)\n",
    "total_amount = principal + interest\n",
    "print(interest)\n",
    "print(total_amount)"
   ]
  },
  {
   "cell_type": "code",
   "execution_count": 13,
   "id": "0e420c2a-c2d2-4220-a526-9ca0932a9bfa",
   "metadata": {},
   "outputs": [
    {
     "name": "stdin",
     "output_type": "stream",
     "text": [
      "Enter the principal amount:  100\n",
      "Enter the interest rate (%):  50\n",
      "Enter the time (in years):  10\n"
     ]
    },
    {
     "name": "stdout",
     "output_type": "stream",
     "text": [
      "500.0\n",
      "600.0\n"
     ]
    }
   ],
   "source": [
    "principal = float(input(\"Enter the principal amount: \"))\n",
    "rate = float(input(\"Enter the interest rate (%): \"))\n",
    "time = float(input(\"Enter the time (in years): \"))\n",
    "\n",
    "def calculate_simple_interest(principal, rate, time):\n",
    "    interest = (principal * rate * time) / 100\n",
    "    return interest\n",
    "\n",
    "\n",
    "interest = calculate_simple_interest(principal, rate, time)\n",
    "total_amount = principal + interest\n",
    "print(interest)\n",
    "print(total_amount)"
   ]
  },
  {
   "cell_type": "code",
   "execution_count": 14,
   "id": "674eeead-c443-4865-b5f5-f406e01a59bd",
   "metadata": {},
   "outputs": [
    {
     "data": {
      "text/plain": [
       "50.0"
      ]
     },
     "execution_count": 14,
     "metadata": {},
     "output_type": "execute_result"
    }
   ],
   "source": [
    "calculate_simple_interest(100,5,10)"
   ]
  },
  {
   "cell_type": "code",
   "execution_count": 3,
   "id": "3c8f08ca-ff6a-4fd2-ab25-d6378d73d4a3",
   "metadata": {},
   "outputs": [
    {
     "data": {
      "text/plain": [
       "150.0"
      ]
     },
     "execution_count": 3,
     "metadata": {},
     "output_type": "execute_result"
    }
   ],
   "source": [
    "total_amount"
   ]
  },
  {
   "cell_type": "code",
   "execution_count": 17,
   "id": "5e764c21-bdda-4d6a-a046-a50454d700e1",
   "metadata": {},
   "outputs": [],
   "source": [
    "\n",
    "\n",
    "def calculate_simple_interest():\n",
    "    principal = float(input(\"Enter the principal amount: \"))\n",
    "    rate = float(input(\"Enter the interest rate (%): \"))\n",
    "    time = float(input(\"Enter the time (in years): \"))\n",
    "    interest = (principal * rate * time) / 100\n",
    "    return interest\n"
   ]
  },
  {
   "cell_type": "code",
   "execution_count": 18,
   "id": "9ad434a9-a8a5-451f-af1e-d7a54f09053c",
   "metadata": {},
   "outputs": [
    {
     "name": "stdin",
     "output_type": "stream",
     "text": [
      "Enter the principal amount:  100\n",
      "Enter the interest rate (%):  5\n",
      "Enter the time (in years):  10\n"
     ]
    },
    {
     "data": {
      "text/plain": [
       "50.0"
      ]
     },
     "execution_count": 18,
     "metadata": {},
     "output_type": "execute_result"
    }
   ],
   "source": [
    "calculate_simple_interest()"
   ]
  },
  {
   "cell_type": "code",
   "execution_count": null,
   "id": "e4fcb2e4-b53d-46ae-97c8-1ec3e5a98d0e",
   "metadata": {},
   "outputs": [],
   "source": []
  }
 ],
 "metadata": {
  "kernelspec": {
   "display_name": "Python 3 (ipykernel)",
   "language": "python",
   "name": "python3"
  },
  "language_info": {
   "codemirror_mode": {
    "name": "ipython",
    "version": 3
   },
   "file_extension": ".py",
   "mimetype": "text/x-python",
   "name": "python",
   "nbconvert_exporter": "python",
   "pygments_lexer": "ipython3",
   "version": "3.11.4"
  }
 },
 "nbformat": 4,
 "nbformat_minor": 5
}
