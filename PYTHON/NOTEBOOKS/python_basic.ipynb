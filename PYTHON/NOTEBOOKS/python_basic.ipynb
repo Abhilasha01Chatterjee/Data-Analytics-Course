{
 "cells": [
  {
   "cell_type": "code",
   "execution_count": 4,
   "id": "44605068-ee20-4443-bb0d-e5b644157b08",
   "metadata": {},
   "outputs": [
    {
     "data": {
      "text/plain": [
       "10"
      ]
     },
     "execution_count": 4,
     "metadata": {},
     "output_type": "execute_result"
    }
   ],
   "source": [
    "3 + 7"
   ]
  },
  {
   "cell_type": "code",
   "execution_count": 6,
   "id": "cf7cc26a-7ca9-442d-95fd-aaa662bc17bb",
   "metadata": {},
   "outputs": [
    {
     "data": {
      "text/plain": [
       "False"
      ]
     },
     "execution_count": 6,
     "metadata": {},
     "output_type": "execute_result"
    }
   ],
   "source": [
    "3 > 15"
   ]
  },
  {
   "cell_type": "code",
   "execution_count": 3,
   "id": "08a46d84-a5c1-43ce-b618-e7b68f9964b0",
   "metadata": {},
   "outputs": [
    {
     "data": {
      "text/plain": [
       "'print me'"
      ]
     },
     "execution_count": 3,
     "metadata": {},
     "output_type": "execute_result"
    }
   ],
   "source": [
    "'print me'\n"
   ]
  },
  {
   "cell_type": "code",
   "execution_count": 12,
   "id": "234b2eaf-fdbb-424d-b587-b11f6c77eefb",
   "metadata": {},
   "outputs": [
    {
     "name": "stdout",
     "output_type": "stream",
     "text": [
      "print me\n"
     ]
    }
   ],
   "source": [
    "print('print me')  "
   ]
  },
  {
   "cell_type": "code",
   "execution_count": 13,
   "id": "29ad3c37-e966-4031-b358-a349fd0a771a",
   "metadata": {},
   "outputs": [
    {
     "name": "stdout",
     "output_type": "stream",
     "text": [
      "print me\n"
     ]
    }
   ],
   "source": [
    "print(\"print me\")  "
   ]
  },
  {
   "cell_type": "code",
   "execution_count": 11,
   "id": "60c981ec-d41c-4b86-8805-dacdacb34703",
   "metadata": {},
   "outputs": [
    {
     "name": "stdout",
     "output_type": "stream",
     "text": [
      "Ten is greater than five!\n"
     ]
    }
   ],
   "source": [
    "if 10 > 5:\n",
    "    print(\"Ten is greater than five!\")"
   ]
  },
  {
   "cell_type": "code",
   "execution_count": 12,
   "id": "a3309b94-a9dc-4ba7-b0b3-c003b6c06397",
   "metadata": {},
   "outputs": [
    {
     "ename": "IndentationError",
     "evalue": "expected an indented block (589121318.py, line 2)",
     "output_type": "error",
     "traceback": [
      "\u001b[1;36m  File \u001b[1;32m\"C:\\Users\\skuma\\AppData\\Local\\Temp\\ipykernel_13148\\589121318.py\"\u001b[1;36m, line \u001b[1;32m2\u001b[0m\n\u001b[1;33m    print(\"Five is greater than two!\")\u001b[0m\n\u001b[1;37m    ^\u001b[0m\n\u001b[1;31mIndentationError\u001b[0m\u001b[1;31m:\u001b[0m expected an indented block\n"
     ]
    }
   ],
   "source": [
    "if 5 > 2:\n",
    "print(\"Five is greater than two!\") "
   ]
  },
  {
   "cell_type": "code",
   "execution_count": 13,
   "id": "97abf029-bbfd-465d-81f9-9f845a2e3d79",
   "metadata": {},
   "outputs": [
    {
     "name": "stdout",
     "output_type": "stream",
     "text": [
      "Ten is greater than five!\n",
      "Ten is greater than five!\n"
     ]
    }
   ],
   "source": [
    "if 10 > 5:\n",
    " print(\"Ten is greater than five!\") #No of space is 1\n",
    "if 10 > 5:\n",
    "    print(\"Ten is greater than five!\") #No of spaces are 4"
   ]
  },
  {
   "cell_type": "code",
   "execution_count": 15,
   "id": "04441743-7beb-45f9-9b83-9e95851a00f9",
   "metadata": {},
   "outputs": [
    {
     "name": "stdout",
     "output_type": "stream",
     "text": [
      "Ten is greater than five!\n",
      "Ten is greater than five!\n"
     ]
    }
   ],
   "source": [
    "#We shall use the same number of spaces in the same block of code#,\n",
    "if 10 > 5:\n",
    "        print(\"Ten is greater than five!\")\n",
    "        print(\"Ten is greater than five!\")"
   ]
  },
  {
   "cell_type": "code",
   "execution_count": 18,
   "id": "d99ad586-5388-4abb-a08a-1e75066efae6",
   "metadata": {},
   "outputs": [
    {
     "name": "stdout",
     "output_type": "stream",
     "text": [
      "5\n",
      "x is 5\n",
      "8.5\n"
     ]
    }
   ],
   "source": [
    "x=5\n",
    "gpa=8.5\n",
    "print(x)\n",
    "print(\"x is\", x)\n",
    "print(gpa)\n"
   ]
  },
  {
   "cell_type": "code",
   "execution_count": 22,
   "id": "19288011-3fd2-42e1-8296-76698c416b08",
   "metadata": {},
   "outputs": [
    {
     "data": {
      "text/plain": [
       "10"
      ]
     },
     "execution_count": 22,
     "metadata": {},
     "output_type": "execute_result"
    }
   ],
   "source": [
    "x+5\n",
    "#print(x+5)"
   ]
  },
  {
   "cell_type": "code",
   "execution_count": 22,
   "id": "ce164413-2c0d-41a1-8017-0e67f5656b0c",
   "metadata": {},
   "outputs": [
    {
     "name": "stdout",
     "output_type": "stream",
     "text": [
      "x is 9\n"
     ]
    }
   ],
   "source": [
    "x=9\n",
    "print(\"x is\", x)"
   ]
  },
  {
   "cell_type": "code",
   "execution_count": 23,
   "id": "423f78c1-4cc1-45ca-91d1-73601593a1f9",
   "metadata": {},
   "outputs": [
    {
     "data": {
      "text/plain": [
       "13"
      ]
     },
     "execution_count": 23,
     "metadata": {},
     "output_type": "execute_result"
    }
   ],
   "source": [
    "1+4*3"
   ]
  },
  {
   "cell_type": "code",
   "execution_count": 24,
   "id": "03a9cd34-bfad-418a-ae25-f36cbee9244b",
   "metadata": {},
   "outputs": [
    {
     "data": {
      "text/plain": [
       "15"
      ]
     },
     "execution_count": 24,
     "metadata": {},
     "output_type": "execute_result"
    }
   ],
   "source": [
    "(1+4)*3\n"
   ]
  },
  {
   "cell_type": "code",
   "execution_count": 27,
   "id": "4e9aa49b-3a1e-4067-b2f7-9c62b5217933",
   "metadata": {},
   "outputs": [
    {
     "data": {
      "text/plain": [
       "7.0"
      ]
     },
     "execution_count": 27,
     "metadata": {},
     "output_type": "execute_result"
    }
   ],
   "source": [
    "35/5 "
   ]
  },
  {
   "cell_type": "code",
   "execution_count": 28,
   "id": "56b3165a-9019-4af9-bedf-97e7766351eb",
   "metadata": {},
   "outputs": [
    {
     "data": {
      "text/plain": [
       "3"
      ]
     },
     "execution_count": 28,
     "metadata": {},
     "output_type": "execute_result"
    }
   ],
   "source": [
    "35%4"
   ]
  },
  {
   "cell_type": "code",
   "execution_count": 29,
   "id": "668d3ffc-544d-4f9c-b9ac-e360a49d091c",
   "metadata": {},
   "outputs": [
    {
     "data": {
      "text/plain": [
       "14.0"
      ]
     },
     "execution_count": 29,
     "metadata": {},
     "output_type": "execute_result"
    }
   ],
   "source": [
    "35/2.5"
   ]
  },
  {
   "cell_type": "code",
   "execution_count": 30,
   "id": "880bb3be-30b7-4758-a07f-99264c6ffe85",
   "metadata": {},
   "outputs": [
    {
     "data": {
      "text/plain": [
       "13.461538461538462"
      ]
     },
     "execution_count": 30,
     "metadata": {},
     "output_type": "execute_result"
    }
   ],
   "source": [
    "35/2.6"
   ]
  },
  {
   "cell_type": "code",
   "execution_count": 23,
   "id": "97099f2e-4ce7-4377-b27e-4c6fe41fe512",
   "metadata": {},
   "outputs": [
    {
     "name": "stdout",
     "output_type": "stream",
     "text": [
      "Hello\n",
      "Hello\n",
      "Hello\n"
     ]
    }
   ],
   "source": [
    "#Assigning same value to multiple variables in one line\n",
    "x = y = z = \"Hello\"\n",
    "print(x)\n",
    "print(y)\n",
    "print(z)"
   ]
  },
  {
   "cell_type": "code",
   "execution_count": 24,
   "id": "48d24594-b57b-4d47-91e7-0cb30ae7936c",
   "metadata": {},
   "outputs": [
    {
     "name": "stdout",
     "output_type": "stream",
     "text": [
      "apple\n",
      "grape\n",
      "mango\n"
     ]
    }
   ],
   "source": [
    "fruits = [\"apple\", \"grape\", \"mango\"]\n",
    "x, y, z = fruits\n",
    "print(x)\n",
    "print(y)\n",
    "print(z)"
   ]
  },
  {
   "cell_type": "code",
   "execution_count": 37,
   "id": "b3bad313-726c-4b56-8968-12c78add484e",
   "metadata": {},
   "outputs": [
    {
     "name": "stdout",
     "output_type": "stream",
     "text": [
      "Hello,Good,Morning\n",
      "Hello , Good , Morning\n"
     ]
    }
   ],
   "source": [
    "x = \"Hello\"\n",
    "y = \"Good\"\n",
    "z = \"Morning\"\n",
    "print(x+ \",\"+y +\",\" +z)\n",
    "print(x,\",\", y,\",\",z)"
   ]
  },
  {
   "cell_type": "code",
   "execution_count": 26,
   "id": "93056d81-bc1b-45cc-bc96-94f7a5cd0ef1",
   "metadata": {},
   "outputs": [
    {
     "name": "stdout",
     "output_type": "stream",
     "text": [
      "Hello Good Morning\n"
     ]
    }
   ],
   "source": [
    "x = 'Hello'\n",
    "y = 'Good'\n",
    "z = 'Morning'\n",
    "print(x, y, z)"
   ]
  },
  {
   "cell_type": "code",
   "execution_count": 27,
   "id": "e988ed68-92e6-42b0-b664-80dda2f22485",
   "metadata": {},
   "outputs": [
    {
     "name": "stdout",
     "output_type": "stream",
     "text": [
      "Hello Good Morning\n"
     ]
    }
   ],
   "source": [
    "x = \"Hello \"\n",
    "y = \"Good \"\n",
    "z = \"Morning\"\n",
    "print(x + y + z)"
   ]
  },
  {
   "cell_type": "code",
   "execution_count": 30,
   "id": "dc915287-0ea7-49a0-a5a2-7cbf211ac5de",
   "metadata": {},
   "outputs": [
    {
     "name": "stdout",
     "output_type": "stream",
     "text": [
      "50\n"
     ]
    }
   ],
   "source": [
    "x = 20\n",
    "y = 30\n",
    "print(x + y)"
   ]
  },
  {
   "cell_type": "code",
   "execution_count": 31,
   "id": "a3d07d89-f5e2-44c2-bc97-a78b68ba068c",
   "metadata": {},
   "outputs": [
    {
     "ename": "TypeError",
     "evalue": "unsupported operand type(s) for +: 'int' and 'str'",
     "output_type": "error",
     "traceback": [
      "\u001b[1;31m---------------------------------------------------------------------------\u001b[0m",
      "\u001b[1;31mTypeError\u001b[0m                                 Traceback (most recent call last)",
      "\u001b[1;32m~\\AppData\\Local\\Temp\\ipykernel_13148\\1715509280.py\u001b[0m in \u001b[0;36m<module>\u001b[1;34m\u001b[0m\n\u001b[0;32m      1\u001b[0m \u001b[0mx\u001b[0m \u001b[1;33m=\u001b[0m \u001b[1;36m20\u001b[0m\u001b[1;33m\u001b[0m\u001b[1;33m\u001b[0m\u001b[0m\n\u001b[0;32m      2\u001b[0m \u001b[0my\u001b[0m \u001b[1;33m=\u001b[0m \u001b[1;34m\"Good\"\u001b[0m\u001b[1;33m\u001b[0m\u001b[1;33m\u001b[0m\u001b[0m\n\u001b[1;32m----> 3\u001b[1;33m \u001b[0mprint\u001b[0m\u001b[1;33m(\u001b[0m\u001b[0mx\u001b[0m \u001b[1;33m+\u001b[0m \u001b[0my\u001b[0m\u001b[1;33m)\u001b[0m\u001b[1;33m\u001b[0m\u001b[1;33m\u001b[0m\u001b[0m\n\u001b[0m",
      "\u001b[1;31mTypeError\u001b[0m: unsupported operand type(s) for +: 'int' and 'str'"
     ]
    }
   ],
   "source": [
    "x = 20\n",
    "y = \"Good\"\n",
    "print(x + y)"
   ]
  },
  {
   "cell_type": "code",
   "execution_count": 36,
   "id": "277b88e2-c0ba-4823-8d32-9c37b7cb3881",
   "metadata": {},
   "outputs": [
    {
     "name": "stdout",
     "output_type": "stream",
     "text": [
      "20 Good\n"
     ]
    }
   ],
   "source": [
    "x = 20\n",
    "y = \"Good\"\n",
    "print(x, y)"
   ]
  },
  {
   "cell_type": "code",
   "execution_count": 51,
   "id": "3d7a1fa5-3879-4aff-bfa2-ff88e094aa94",
   "metadata": {},
   "outputs": [
    {
     "data": {
      "text/plain": [
       "23"
      ]
     },
     "execution_count": 51,
     "metadata": {},
     "output_type": "execute_result"
    }
   ],
   "source": [
    "from math import *\n",
    "\n",
    "floor(20.3)\n",
    "#cos(30)\n",
    "#sqrt(49)\n",
    "max(23, 42)\n",
    "min(23, 42)"
   ]
  },
  {
   "cell_type": "code",
   "execution_count": 52,
   "id": "57e7e5a6-7960-4740-9381-2d1a64f4a0f0",
   "metadata": {},
   "outputs": [
    {
     "data": {
      "text/plain": [
       "1.23232"
      ]
     },
     "execution_count": 52,
     "metadata": {},
     "output_type": "execute_result"
    }
   ],
   "source": [
    "1.23232"
   ]
  },
  {
   "cell_type": "code",
   "execution_count": 55,
   "id": "0d271c0b-e8d2-4fe4-ac6e-2a4b3c00a85a",
   "metadata": {},
   "outputs": [
    {
     "name": "stdout",
     "output_type": "stream",
     "text": [
      "Hello, world!\n",
      "You have 20 years until retirement\n"
     ]
    }
   ],
   "source": [
    "print (\"Hello, world!\")  \n",
    "age = 45\n",
    "print (\"You have\", 65 - age, \"years until retirement\")\n"
   ]
  },
  {
   "cell_type": "code",
   "execution_count": 60,
   "id": "69967127-60d9-4264-be19-15971a4ee639",
   "metadata": {},
   "outputs": [
    {
     "name": "stdin",
     "output_type": "stream",
     "text": [
      "How old are you?  23\n"
     ]
    },
    {
     "name": "stdout",
     "output_type": "stream",
     "text": [
      "Your age is 23\n",
      "You have 42 years until retirement\n"
     ]
    }
   ],
   "source": [
    "age = input(\"How old are you? \")\n",
    "age=int(age)\n",
    "print (\"Your age is\", age)\n",
    "print (\"You have\", 65 - age, \"years until retirement\")"
   ]
  },
  {
   "cell_type": "code",
   "execution_count": 64,
   "id": "b6fc4c17-a305-47b2-93cc-c97beb6bd4ec",
   "metadata": {},
   "outputs": [
    {
     "name": "stdin",
     "output_type": "stream",
     "text": [
      "enter the number: 30\n"
     ]
    },
    {
     "name": "stdout",
     "output_type": "stream",
     "text": [
      "The Given number is an even number\n"
     ]
    }
   ],
   "source": [
    "num = int(input(\"enter the number:\"))         \n",
    "# Here, we are taking an integer num and taking input dynamically  \n",
    "if num%2 == 0:      \n",
    "    print(\"The Given number is an even number\")  "
   ]
  },
  {
   "cell_type": "code",
   "execution_count": 62,
   "id": "ad93b40c-1f43-4f78-890c-aafd1c75712c",
   "metadata": {},
   "outputs": [
    {
     "name": "stdin",
     "output_type": "stream",
     "text": [
      "Enter a:  23\n",
      "Enter b:  12\n",
      "Enter c:  21\n"
     ]
    },
    {
     "name": "stdout",
     "output_type": "stream",
     "text": [
      "From the above three numbers given a is largest\n"
     ]
    }
   ],
   "source": [
    "    # Simple Python Program to print the largest of the three numbers.  \n",
    "    a = int (input(\"Enter a: \"));    \n",
    "    b = int (input(\"Enter b: \"));    \n",
    "    c = int (input(\"Enter c: \"));    \n",
    "    if a>b and a>c:    \n",
    "    # Here, we are checking the condition. If the condition is true, we will enter the block  \n",
    "        print (\"From the above three numbers given\", a, \"is largest\");    \n",
    "    if b>a and b>c:    \n",
    "    # Here, we are checking the condition. If the condition is true, we will enter the block  \n",
    "        print (\"From the above three numbers given\", b, \"is largest\");    \n",
    "    if c>a and c>b:    \n",
    "    # Here, we are checking the condition. If the condition is true, we will enter the block  \n",
    "        print (\"From the above three numbers given\", c, \"is largest\");    "
   ]
  },
  {
   "cell_type": "code",
   "execution_count": 65,
   "id": "bc8e6840-61cf-4672-be5f-32a963c4bfdd",
   "metadata": {},
   "outputs": [
    {
     "name": "stdin",
     "output_type": "stream",
     "text": [
      "Enter your age:  34\n"
     ]
    },
    {
     "name": "stdout",
     "output_type": "stream",
     "text": [
      "You are eligible to vote !!\n"
     ]
    }
   ],
   "source": [
    "#Program to check whether a person is eligible to vote or not.  \n",
    "age = int (input(\"Enter your age: \"))    \n",
    "if age>=18:    \n",
    "# Here, we are checking the condition. If the condition is true, we will enter the block  \n",
    "    print(\"You are eligible to vote !\");    \n",
    "else:    \n",
    "    print(\"Sorry! you have to wait !\"); "
   ]
  },
  {
   "cell_type": "code",
   "execution_count": 67,
   "id": "f014c0b7-aa9c-4cbf-a2d5-21b18c3d127a",
   "metadata": {},
   "outputs": [
    {
     "name": "stdin",
     "output_type": "stream",
     "text": [
      "Enter the marks?  67\n"
     ]
    },
    {
     "name": "stdout",
     "output_type": "stream",
     "text": [
      "You scored grade C ...\n"
     ]
    }
   ],
   "source": [
    "    #  program to understand elif statement  \n",
    "    marks = int(input(\"Enter the marks? \"))    \n",
    "    if marks > 90 and marks <= 100:     \n",
    "       print(\"Congrats ! you scored grade O ...\")    \n",
    "    elif marks > 80 and marks <= 90:    \n",
    "       print(\"You scored grade A+\")    \n",
    "    elif marks >70 and marks <= 80:  \n",
    "       print(\"You scored grade A\")    \n",
    "    elif (marks > 30 and marks <= 70):    \n",
    "       print(\"You scored grade C ...\")    \n",
    "    else:    \n",
    "       print(\" you are fail \")    "
   ]
  },
  {
   "cell_type": "code",
   "execution_count": 1,
   "id": "d0f3e667-d04e-4cb5-a6ba-a6dab59e6997",
   "metadata": {},
   "outputs": [
    {
     "name": "stdout",
     "output_type": "stream",
     "text": [
      "1\n",
      "2\n",
      "3\n",
      "4\n",
      "5\n",
      "6\n",
      "7\n",
      "8\n",
      "9\n"
     ]
    }
   ],
   "source": [
    "i = 1\n",
    "while i < 10:\n",
    "    print(i)\n",
    "    i += 1\n"
   ]
  },
  {
   "cell_type": "code",
   "execution_count": 3,
   "id": "8eb632e8-0851-447d-a093-6a2143151326",
   "metadata": {},
   "outputs": [
    {
     "name": "stdout",
     "output_type": "stream",
     "text": [
      "1\n",
      "2\n",
      "4\n",
      "8\n",
      "16\n",
      "32\n",
      "64\n",
      "128\n"
     ]
    }
   ],
   "source": [
    "number = 1\n",
    "while number < 200:\n",
    "    print(number)\n",
    "    number = number*2"
   ]
  },
  {
   "cell_type": "code",
   "execution_count": 5,
   "id": "d3e5e25c-2374-482c-8568-405eb1a35b3c",
   "metadata": {},
   "outputs": [
    {
     "name": "stdout",
     "output_type": "stream",
     "text": [
      "1\n",
      "2\n",
      "3\n",
      "4\n",
      "5\n",
      "6\n",
      "7\n",
      "8\n",
      "9\n",
      "i is no longer less than 10\n"
     ]
    }
   ],
   "source": [
    "i = 1\n",
    "while i < 10:\n",
    "  print(i)\n",
    "  i += 1\n",
    "else:\n",
    "  print(\"i is no longer less than 10\")"
   ]
  },
  {
   "cell_type": "code",
   "execution_count": 8,
   "id": "c20f1c5f-2163-447f-8146-655cc01f4866",
   "metadata": {},
   "outputs": [
    {
     "name": "stdout",
     "output_type": "stream",
     "text": [
      "1 squared is 1\n",
      "2 squared is 4\n",
      "3 squared is 9\n",
      "4 squared is 16\n",
      "5 squared is 25\n"
     ]
    }
   ],
   "source": [
    "for x in range(1, 6):\n",
    "    print (x, \"squared is\", x * x)\n"
   ]
  },
  {
   "cell_type": "code",
   "execution_count": 10,
   "id": "d871ed3f-59f1-4221-b2cd-5563a37eab22",
   "metadata": {},
   "outputs": [
    {
     "name": "stdout",
     "output_type": "stream",
     "text": [
      "grapes\n",
      "banana\n",
      "mango\n",
      "apple\n"
     ]
    }
   ],
   "source": [
    "fruits = [\"grapes\", \"banana\", \"mango\",\"apple\"]\n",
    "for x in fruits:\n",
    "    print(x)\n"
   ]
  },
  {
   "cell_type": "code",
   "execution_count": 27,
   "id": "5a7eeaea-d41f-4fb5-98b5-ad88b22febf3",
   "metadata": {},
   "outputs": [
    {
     "name": "stdout",
     "output_type": "stream",
     "text": [
      "1\n",
      "7\n",
      "13\n",
      "2\n"
     ]
    }
   ],
   "source": [
    "for x in [1,7,13,2]:\n",
    " print(x)\n"
   ]
  },
  {
   "cell_type": "code",
   "execution_count": 11,
   "id": "8a650c62-3f95-4925-afca-d213161f3fee",
   "metadata": {},
   "outputs": [
    {
     "name": "stdout",
     "output_type": "stream",
     "text": [
      "5\n",
      "4\n",
      "3\n",
      "2\n",
      "1\n",
      "Blastoff!\n"
     ]
    }
   ],
   "source": [
    "for x in range(5, 0, -1):  \n",
    "    print (x)\n",
    "print (\"Blastoff!\")\n"
   ]
  },
  {
   "cell_type": "code",
   "execution_count": 13,
   "id": "a237f884-8cbf-47c2-bd1e-a535752683b7",
   "metadata": {},
   "outputs": [
    {
     "name": "stdout",
     "output_type": "stream",
     "text": [
      "p\n",
      "i\n",
      "n\n",
      "e\n",
      "a\n",
      "p\n",
      "p\n",
      "l\n",
      "e\n"
     ]
    }
   ],
   "source": [
    "for i in \"pineapple\":\n",
    " print(i)\n"
   ]
  },
  {
   "cell_type": "code",
   "execution_count": 23,
   "id": "fa190fce-1b2c-44b0-9eaf-52d6f4a6f4b3",
   "metadata": {},
   "outputs": [
    {
     "name": "stdout",
     "output_type": "stream",
     "text": [
      "0 1 2 3 4 "
     ]
    }
   ],
   "source": [
    "for i in range(5):\n",
    "    print(i,end=\" \")\n"
   ]
  },
  {
   "cell_type": "code",
   "execution_count": 24,
   "id": "bf85933f-d7d4-4a70-b2ce-043dc2b8f95d",
   "metadata": {},
   "outputs": [
    {
     "name": "stdout",
     "output_type": "stream",
     "text": [
      "01234"
     ]
    }
   ],
   "source": [
    "for i in range(5):\n",
    "    print(i,end=\"\")"
   ]
  },
  {
   "cell_type": "code",
   "execution_count": 26,
   "id": "bbb9bc65-a010-4128-95ca-bade20a57ef3",
   "metadata": {},
   "outputs": [
    {
     "name": "stdout",
     "output_type": "stream",
     "text": [
      "sum of first 10 squares is 1\n",
      "sum of first 10 squares is 5\n",
      "sum of first 10 squares is 14\n",
      "sum of first 10 squares is 30\n",
      "sum of first 10 squares is 55\n",
      "sum of first 10 squares is 91\n",
      "sum of first 10 squares is 140\n",
      "sum of first 10 squares is 204\n",
      "sum of first 10 squares is 285\n",
      "sum of first 10 squares is 385\n"
     ]
    }
   ],
   "source": [
    "sum = 0\n",
    "for i in range(1, 11):\n",
    "    sum = sum + (i * i)\n",
    "    print (\"sum of first 10 squares is\", sum)\n"
   ]
  },
  {
   "cell_type": "code",
   "execution_count": 29,
   "id": "ea3dad01-670d-476f-b2ed-913b3b039b21",
   "metadata": {},
   "outputs": [
    {
     "name": "stdout",
     "output_type": "stream",
     "text": [
      "The list of squares is [16, 4, 36, 49, 9, 25, 64, 100, 36, 1, 81, 4]\n"
     ]
    }
   ],
   "source": [
    "    # Python program to show how the for loop works  \n",
    "      \n",
    "    # Creating a sequence which is a collection of numbers  \n",
    "    numbers = [4, 2, 6, 7, 3, 5, 8, 10, 6, 1, 9, 2]  \n",
    "      \n",
    "    # variable to store the square of the number  \n",
    "    square = 0  \n",
    "      \n",
    "    # Creating an empty list  \n",
    "    squares = []  \n",
    "      \n",
    "    # Creating a for loop  \n",
    "    for value in numbers:  \n",
    "        square = value ** 2  \n",
    "        squares.append(square)  \n",
    "    print(\"The list of squares is\", squares)  "
   ]
  },
  {
   "cell_type": "code",
   "execution_count": null,
   "id": "f13d101a-3c37-412e-8a81-b44e4c0ed60e",
   "metadata": {},
   "outputs": [],
   "source": []
  }
 ],
 "metadata": {
  "kernelspec": {
   "display_name": "Python 3 (ipykernel)",
   "language": "python",
   "name": "python3"
  },
  "language_info": {
   "codemirror_mode": {
    "name": "ipython",
    "version": 3
   },
   "file_extension": ".py",
   "mimetype": "text/x-python",
   "name": "python",
   "nbconvert_exporter": "python",
   "pygments_lexer": "ipython3",
   "version": "3.9.13"
  }
 },
 "nbformat": 4,
 "nbformat_minor": 5
}
