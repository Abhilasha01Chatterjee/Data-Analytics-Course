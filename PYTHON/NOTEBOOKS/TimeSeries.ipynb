{
 "cells": [
  {
   "cell_type": "markdown",
   "id": "e4a4f9a5",
   "metadata": {},
   "source": [
    "# Time series analysis"
   ]
  },
  {
   "cell_type": "markdown",
   "id": "a7c09006",
   "metadata": {},
   "source": [
    "#### Basics of stock data\n",
    "#### technical analysis"
   ]
  },
  {
   "cell_type": "code",
   "execution_count": 6,
   "id": "bc10a503",
   "metadata": {},
   "outputs": [
    {
     "name": "stdout",
     "output_type": "stream",
     "text": [
      "Requirement already satisfied: yfinance in c:\\users\\rishi\\anaconda3\\lib\\site-packages (0.2.26)\n",
      "Requirement already satisfied: beautifulsoup4>=4.11.1 in c:\\users\\rishi\\anaconda3\\lib\\site-packages (from yfinance) (4.11.1)\n",
      "Requirement already satisfied: html5lib>=1.1 in c:\\users\\rishi\\anaconda3\\lib\\site-packages (from yfinance) (1.1)\n",
      "Requirement already satisfied: requests>=2.31 in c:\\users\\rishi\\anaconda3\\lib\\site-packages (from yfinance) (2.31.0)\n",
      "Requirement already satisfied: pytz>=2022.5 in c:\\users\\rishi\\anaconda3\\lib\\site-packages (from yfinance) (2023.3)\n",
      "Requirement already satisfied: numpy>=1.16.5 in c:\\users\\rishi\\anaconda3\\lib\\site-packages (from yfinance) (1.24.4)\n",
      "Requirement already satisfied: multitasking>=0.0.7 in c:\\users\\rishi\\anaconda3\\lib\\site-packages (from yfinance) (0.0.11)\n",
      "Requirement already satisfied: lxml>=4.9.1 in c:\\users\\rishi\\anaconda3\\lib\\site-packages (from yfinance) (4.9.1)\n",
      "Requirement already satisfied: frozendict>=2.3.4 in c:\\users\\rishi\\anaconda3\\lib\\site-packages (from yfinance) (2.3.8)\n",
      "Requirement already satisfied: pandas>=1.3.0 in c:\\users\\rishi\\anaconda3\\lib\\site-packages (from yfinance) (2.1.2)\n",
      "Requirement already satisfied: appdirs>=1.4.4 in c:\\users\\rishi\\anaconda3\\lib\\site-packages (from yfinance) (1.4.4)\n",
      "Requirement already satisfied: soupsieve>1.2 in c:\\users\\rishi\\anaconda3\\lib\\site-packages (from beautifulsoup4>=4.11.1->yfinance) (2.3.1)\n",
      "Requirement already satisfied: six>=1.9 in c:\\users\\rishi\\anaconda3\\lib\\site-packages (from html5lib>=1.1->yfinance) (1.16.0)\n",
      "Requirement already satisfied: webencodings in c:\\users\\rishi\\anaconda3\\lib\\site-packages (from html5lib>=1.1->yfinance) (0.5.1)\n",
      "Requirement already satisfied: tzdata>=2022.1 in c:\\users\\rishi\\anaconda3\\lib\\site-packages (from pandas>=1.3.0->yfinance) (2023.3)\n",
      "Requirement already satisfied: python-dateutil>=2.8.2 in c:\\users\\rishi\\anaconda3\\lib\\site-packages (from pandas>=1.3.0->yfinance) (2.8.2)\n",
      "Requirement already satisfied: urllib3<3,>=1.21.1 in c:\\users\\rishi\\anaconda3\\lib\\site-packages (from requests>=2.31->yfinance) (1.26.11)\n",
      "Requirement already satisfied: certifi>=2017.4.17 in c:\\users\\rishi\\anaconda3\\lib\\site-packages (from requests>=2.31->yfinance) (2022.9.14)\n",
      "Requirement already satisfied: charset-normalizer<4,>=2 in c:\\users\\rishi\\anaconda3\\lib\\site-packages (from requests>=2.31->yfinance) (2.0.4)\n",
      "Requirement already satisfied: idna<4,>=2.5 in c:\\users\\rishi\\anaconda3\\lib\\site-packages (from requests>=2.31->yfinance) (3.3)\n",
      "Note: you may need to restart the kernel to use updated packages.\n"
     ]
    }
   ],
   "source": [
    "pip install yfinance"
   ]
  },
  {
   "cell_type": "code",
   "execution_count": 4,
   "id": "1808f68c",
   "metadata": {},
   "outputs": [],
   "source": [
    "import pandas as pd\n",
    "import numpy as np\n",
    "import matplotlib.pyplot as plt\n",
    "import seaborn as sn\n",
    "import yfinance as yf\n",
    "from datetime import datetime"
   ]
  },
  {
   "cell_type": "code",
   "execution_count": 5,
   "id": "a28b98b9",
   "metadata": {},
   "outputs": [
    {
     "name": "stdout",
     "output_type": "stream",
     "text": [
      "[*********************100%%**********************]  1 of 1 completed\n"
     ]
    }
   ],
   "source": [
    "voltas=yf.download(\"VOLTAS.NS\", start='2016-01-01')"
   ]
  },
  {
   "cell_type": "code",
   "execution_count": 9,
   "id": "5fd45489",
   "metadata": {},
   "outputs": [
    {
     "data": {
      "text/html": [
       "<div>\n",
       "<style scoped>\n",
       "    .dataframe tbody tr th:only-of-type {\n",
       "        vertical-align: middle;\n",
       "    }\n",
       "\n",
       "    .dataframe tbody tr th {\n",
       "        vertical-align: top;\n",
       "    }\n",
       "\n",
       "    .dataframe thead th {\n",
       "        text-align: right;\n",
       "    }\n",
       "</style>\n",
       "<table border=\"1\" class=\"dataframe\">\n",
       "  <thead>\n",
       "    <tr style=\"text-align: right;\">\n",
       "      <th></th>\n",
       "      <th>Open</th>\n",
       "      <th>High</th>\n",
       "      <th>Low</th>\n",
       "      <th>Close</th>\n",
       "      <th>Adj Close</th>\n",
       "      <th>Volume</th>\n",
       "    </tr>\n",
       "    <tr>\n",
       "      <th>Date</th>\n",
       "      <th></th>\n",
       "      <th></th>\n",
       "      <th></th>\n",
       "      <th></th>\n",
       "      <th></th>\n",
       "      <th></th>\n",
       "    </tr>\n",
       "  </thead>\n",
       "  <tbody>\n",
       "    <tr>\n",
       "      <th>2016-01-01</th>\n",
       "      <td>324.000000</td>\n",
       "      <td>324.500000</td>\n",
       "      <td>316.250000</td>\n",
       "      <td>319.250000</td>\n",
       "      <td>298.521851</td>\n",
       "      <td>674414</td>\n",
       "    </tr>\n",
       "    <tr>\n",
       "      <th>2016-01-04</th>\n",
       "      <td>318.500000</td>\n",
       "      <td>320.000000</td>\n",
       "      <td>303.500000</td>\n",
       "      <td>307.299988</td>\n",
       "      <td>287.347748</td>\n",
       "      <td>1083585</td>\n",
       "    </tr>\n",
       "    <tr>\n",
       "      <th>2016-01-05</th>\n",
       "      <td>309.000000</td>\n",
       "      <td>309.750000</td>\n",
       "      <td>303.149994</td>\n",
       "      <td>304.649994</td>\n",
       "      <td>284.869873</td>\n",
       "      <td>1104220</td>\n",
       "    </tr>\n",
       "    <tr>\n",
       "      <th>2016-01-06</th>\n",
       "      <td>303.899994</td>\n",
       "      <td>309.850006</td>\n",
       "      <td>301.200012</td>\n",
       "      <td>305.700012</td>\n",
       "      <td>285.851685</td>\n",
       "      <td>1090119</td>\n",
       "    </tr>\n",
       "    <tr>\n",
       "      <th>2016-01-07</th>\n",
       "      <td>302.149994</td>\n",
       "      <td>302.450012</td>\n",
       "      <td>286.250000</td>\n",
       "      <td>288.149994</td>\n",
       "      <td>269.441101</td>\n",
       "      <td>1851263</td>\n",
       "    </tr>\n",
       "  </tbody>\n",
       "</table>\n",
       "</div>"
      ],
      "text/plain": [
       "                  Open        High         Low       Close   Adj Close  \\\n",
       "Date                                                                     \n",
       "2016-01-01  324.000000  324.500000  316.250000  319.250000  298.521851   \n",
       "2016-01-04  318.500000  320.000000  303.500000  307.299988  287.347748   \n",
       "2016-01-05  309.000000  309.750000  303.149994  304.649994  284.869873   \n",
       "2016-01-06  303.899994  309.850006  301.200012  305.700012  285.851685   \n",
       "2016-01-07  302.149994  302.450012  286.250000  288.149994  269.441101   \n",
       "\n",
       "             Volume  \n",
       "Date                 \n",
       "2016-01-01   674414  \n",
       "2016-01-04  1083585  \n",
       "2016-01-05  1104220  \n",
       "2016-01-06  1090119  \n",
       "2016-01-07  1851263  "
      ]
     },
     "execution_count": 9,
     "metadata": {},
     "output_type": "execute_result"
    }
   ],
   "source": [
    "voltas.head()"
   ]
  },
  {
   "cell_type": "code",
   "execution_count": 10,
   "id": "cb2bac0b",
   "metadata": {},
   "outputs": [
    {
     "data": {
      "text/html": [
       "<div>\n",
       "<style scoped>\n",
       "    .dataframe tbody tr th:only-of-type {\n",
       "        vertical-align: middle;\n",
       "    }\n",
       "\n",
       "    .dataframe tbody tr th {\n",
       "        vertical-align: top;\n",
       "    }\n",
       "\n",
       "    .dataframe thead th {\n",
       "        text-align: right;\n",
       "    }\n",
       "</style>\n",
       "<table border=\"1\" class=\"dataframe\">\n",
       "  <thead>\n",
       "    <tr style=\"text-align: right;\">\n",
       "      <th></th>\n",
       "      <th>Open</th>\n",
       "      <th>High</th>\n",
       "      <th>Low</th>\n",
       "      <th>Close</th>\n",
       "      <th>Adj Close</th>\n",
       "      <th>Volume</th>\n",
       "    </tr>\n",
       "    <tr>\n",
       "      <th>Date</th>\n",
       "      <th></th>\n",
       "      <th></th>\n",
       "      <th></th>\n",
       "      <th></th>\n",
       "      <th></th>\n",
       "      <th></th>\n",
       "    </tr>\n",
       "  </thead>\n",
       "  <tbody>\n",
       "    <tr>\n",
       "      <th>2023-12-04</th>\n",
       "      <td>844.000000</td>\n",
       "      <td>848.450012</td>\n",
       "      <td>830.549988</td>\n",
       "      <td>837.849976</td>\n",
       "      <td>837.849976</td>\n",
       "      <td>995617</td>\n",
       "    </tr>\n",
       "    <tr>\n",
       "      <th>2023-12-05</th>\n",
       "      <td>841.900024</td>\n",
       "      <td>846.950012</td>\n",
       "      <td>825.400024</td>\n",
       "      <td>832.500000</td>\n",
       "      <td>832.500000</td>\n",
       "      <td>1388896</td>\n",
       "    </tr>\n",
       "    <tr>\n",
       "      <th>2023-12-06</th>\n",
       "      <td>839.000000</td>\n",
       "      <td>849.900024</td>\n",
       "      <td>833.700012</td>\n",
       "      <td>845.049988</td>\n",
       "      <td>845.049988</td>\n",
       "      <td>1717573</td>\n",
       "    </tr>\n",
       "    <tr>\n",
       "      <th>2023-12-07</th>\n",
       "      <td>845.549988</td>\n",
       "      <td>869.950012</td>\n",
       "      <td>833.099976</td>\n",
       "      <td>866.049988</td>\n",
       "      <td>866.049988</td>\n",
       "      <td>2356938</td>\n",
       "    </tr>\n",
       "    <tr>\n",
       "      <th>2023-12-08</th>\n",
       "      <td>872.000000</td>\n",
       "      <td>878.599976</td>\n",
       "      <td>844.849976</td>\n",
       "      <td>855.450012</td>\n",
       "      <td>855.450012</td>\n",
       "      <td>2817604</td>\n",
       "    </tr>\n",
       "  </tbody>\n",
       "</table>\n",
       "</div>"
      ],
      "text/plain": [
       "                  Open        High         Low       Close   Adj Close  \\\n",
       "Date                                                                     \n",
       "2023-12-04  844.000000  848.450012  830.549988  837.849976  837.849976   \n",
       "2023-12-05  841.900024  846.950012  825.400024  832.500000  832.500000   \n",
       "2023-12-06  839.000000  849.900024  833.700012  845.049988  845.049988   \n",
       "2023-12-07  845.549988  869.950012  833.099976  866.049988  866.049988   \n",
       "2023-12-08  872.000000  878.599976  844.849976  855.450012  855.450012   \n",
       "\n",
       "             Volume  \n",
       "Date                 \n",
       "2023-12-04   995617  \n",
       "2023-12-05  1388896  \n",
       "2023-12-06  1717573  \n",
       "2023-12-07  2356938  \n",
       "2023-12-08  2817604  "
      ]
     },
     "execution_count": 10,
     "metadata": {},
     "output_type": "execute_result"
    }
   ],
   "source": [
    "voltas.tail()"
   ]
  },
  {
   "cell_type": "code",
   "execution_count": 6,
   "id": "be609b34",
   "metadata": {},
   "outputs": [
    {
     "data": {
      "text/plain": [
       "<Axes: xlabel='Date'>"
      ]
     },
     "execution_count": 6,
     "metadata": {},
     "output_type": "execute_result"
    },
    {
     "data": {
      "image/png": "[encoded data removed]",
      "text/plain": [
       "<Figure size 640x480 with 1 Axes>"
      ]
     },
     "metadata": {},
     "output_type": "display_data"
    }
   ],
   "source": [
    "voltas['Close'].plot()"
   ]
  },
  {
   "cell_type": "code",
   "execution_count": 7,
   "id": "08fdb7f6",
   "metadata": {},
   "outputs": [
    {
     "data": {
      "text/plain": [
       "[<matplotlib.lines.Line2D at 0x1d71aa38710>]"
      ]
     },
     "execution_count": 7,
     "metadata": {},
     "output_type": "execute_result"
    },
    {
     "data": {
      "image/png": "[encoded data removed]",
      "text/plain": [
       "<Figure size 640x480 with 1 Axes>"
      ]
     },
     "metadata": {},
     "output_type": "display_data"
    }
   ],
   "source": [
    "plt.plot(voltas['Close'])"
   ]
  },
  {
   "cell_type": "code",
   "execution_count": 8,
   "id": "26fdad12",
   "metadata": {},
   "outputs": [
    {
     "data": {
      "text/plain": [
       "[<matplotlib.lines.Line2D at 0x1d71aafd510>,\n",
       " <matplotlib.lines.Line2D at 0x1d71ab33ed0>]"
      ]
     },
     "execution_count": 8,
     "metadata": {},
     "output_type": "execute_result"
    },
    {
     "data": {
      "image/png": "[encoded data removed]",
      "text/plain": [
       "<Figure size 640x480 with 1 Axes>"
      ]
     },
     "metadata": {},
     "output_type": "display_data"
    }
   ],
   "source": [
    "plt.plot(voltas[['Close', 'Adj Close']])"
   ]
  },
  {
   "cell_type": "code",
   "execution_count": 9,
   "id": "76c14f25",
   "metadata": {},
   "outputs": [],
   "source": [
    "voltas['EMA5'] = voltas['Adj Close'].ewm(span=5, adjust=False).mean()"
   ]
  },
  {
   "cell_type": "code",
   "execution_count": 10,
   "id": "dfd89cd9",
   "metadata": {},
   "outputs": [],
   "source": [
    "voltas['EMA21'] = voltas['Adj Close'].ewm(span=21, adjust=False).mean()"
   ]
  },
  {
   "cell_type": "code",
   "execution_count": 11,
   "id": "22bffc1a",
   "metadata": {},
   "outputs": [
    {
     "data": {
      "text/html": [
       "<div>\n",
       "<style scoped>\n",
       "    .dataframe tbody tr th:only-of-type {\n",
       "        vertical-align: middle;\n",
       "    }\n",
       "\n",
       "    .dataframe tbody tr th {\n",
       "        vertical-align: top;\n",
       "    }\n",
       "\n",
       "    .dataframe thead th {\n",
       "        text-align: right;\n",
       "    }\n",
       "</style>\n",
       "<table border=\"1\" class=\"dataframe\">\n",
       "  <thead>\n",
       "    <tr style=\"text-align: right;\">\n",
       "      <th></th>\n",
       "      <th>Open</th>\n",
       "      <th>High</th>\n",
       "      <th>Low</th>\n",
       "      <th>Close</th>\n",
       "      <th>Adj Close</th>\n",
       "      <th>Volume</th>\n",
       "      <th>EMA5</th>\n",
       "      <th>EMA21</th>\n",
       "    </tr>\n",
       "    <tr>\n",
       "      <th>Date</th>\n",
       "      <th></th>\n",
       "      <th></th>\n",
       "      <th></th>\n",
       "      <th></th>\n",
       "      <th></th>\n",
       "      <th></th>\n",
       "      <th></th>\n",
       "      <th></th>\n",
       "    </tr>\n",
       "  </thead>\n",
       "  <tbody>\n",
       "    <tr>\n",
       "      <th>2016-01-01</th>\n",
       "      <td>324.000000</td>\n",
       "      <td>324.500000</td>\n",
       "      <td>316.250000</td>\n",
       "      <td>319.250000</td>\n",
       "      <td>298.521912</td>\n",
       "      <td>674414</td>\n",
       "      <td>298.521912</td>\n",
       "      <td>298.521912</td>\n",
       "    </tr>\n",
       "    <tr>\n",
       "      <th>2016-01-04</th>\n",
       "      <td>318.500000</td>\n",
       "      <td>320.000000</td>\n",
       "      <td>303.500000</td>\n",
       "      <td>307.299988</td>\n",
       "      <td>287.347778</td>\n",
       "      <td>1083585</td>\n",
       "      <td>294.797201</td>\n",
       "      <td>297.506081</td>\n",
       "    </tr>\n",
       "    <tr>\n",
       "      <th>2016-01-05</th>\n",
       "      <td>309.000000</td>\n",
       "      <td>309.750000</td>\n",
       "      <td>303.149994</td>\n",
       "      <td>304.649994</td>\n",
       "      <td>284.869812</td>\n",
       "      <td>1104220</td>\n",
       "      <td>291.488071</td>\n",
       "      <td>296.357330</td>\n",
       "    </tr>\n",
       "    <tr>\n",
       "      <th>2016-01-06</th>\n",
       "      <td>303.899994</td>\n",
       "      <td>309.850006</td>\n",
       "      <td>301.200012</td>\n",
       "      <td>305.700012</td>\n",
       "      <td>285.851593</td>\n",
       "      <td>1090119</td>\n",
       "      <td>289.609245</td>\n",
       "      <td>295.402263</td>\n",
       "    </tr>\n",
       "    <tr>\n",
       "      <th>2016-01-07</th>\n",
       "      <td>302.149994</td>\n",
       "      <td>302.450012</td>\n",
       "      <td>286.250000</td>\n",
       "      <td>288.149994</td>\n",
       "      <td>269.441162</td>\n",
       "      <td>1851263</td>\n",
       "      <td>282.886551</td>\n",
       "      <td>293.042163</td>\n",
       "    </tr>\n",
       "    <tr>\n",
       "      <th>2016-01-08</th>\n",
       "      <td>289.899994</td>\n",
       "      <td>299.799988</td>\n",
       "      <td>289.899994</td>\n",
       "      <td>296.649994</td>\n",
       "      <td>277.389252</td>\n",
       "      <td>1362284</td>\n",
       "      <td>281.054118</td>\n",
       "      <td>291.619171</td>\n",
       "    </tr>\n",
       "    <tr>\n",
       "      <th>2016-01-11</th>\n",
       "      <td>291.850006</td>\n",
       "      <td>303.100006</td>\n",
       "      <td>287.350006</td>\n",
       "      <td>298.399994</td>\n",
       "      <td>279.025635</td>\n",
       "      <td>997085</td>\n",
       "      <td>280.377957</td>\n",
       "      <td>290.474304</td>\n",
       "    </tr>\n",
       "    <tr>\n",
       "      <th>2016-01-12</th>\n",
       "      <td>298.649994</td>\n",
       "      <td>302.899994</td>\n",
       "      <td>285.299988</td>\n",
       "      <td>287.399994</td>\n",
       "      <td>268.739807</td>\n",
       "      <td>1420695</td>\n",
       "      <td>276.498574</td>\n",
       "      <td>288.498440</td>\n",
       "    </tr>\n",
       "    <tr>\n",
       "      <th>2016-01-13</th>\n",
       "      <td>289.950012</td>\n",
       "      <td>293.000000</td>\n",
       "      <td>276.450012</td>\n",
       "      <td>288.700012</td>\n",
       "      <td>269.955444</td>\n",
       "      <td>1878302</td>\n",
       "      <td>274.317530</td>\n",
       "      <td>286.812714</td>\n",
       "    </tr>\n",
       "    <tr>\n",
       "      <th>2016-01-14</th>\n",
       "      <td>282.000000</td>\n",
       "      <td>293.500000</td>\n",
       "      <td>280.149994</td>\n",
       "      <td>288.700012</td>\n",
       "      <td>269.955444</td>\n",
       "      <td>1154298</td>\n",
       "      <td>272.863502</td>\n",
       "      <td>285.280235</td>\n",
       "    </tr>\n",
       "  </tbody>\n",
       "</table>\n",
       "</div>"
      ],
      "text/plain": [
       "                  Open        High         Low       Close   Adj Close  \\\n",
       "Date                                                                     \n",
       "2016-01-01  324.000000  324.500000  316.250000  319.250000  298.521912   \n",
       "2016-01-04  318.500000  320.000000  303.500000  307.299988  287.347778   \n",
       "2016-01-05  309.000000  309.750000  303.149994  304.649994  284.869812   \n",
       "2016-01-06  303.899994  309.850006  301.200012  305.700012  285.851593   \n",
       "2016-01-07  302.149994  302.450012  286.250000  288.149994  269.441162   \n",
       "2016-01-08  289.899994  299.799988  289.899994  296.649994  277.389252   \n",
       "2016-01-11  291.850006  303.100006  287.350006  298.399994  279.025635   \n",
       "2016-01-12  298.649994  302.899994  285.299988  287.399994  268.739807   \n",
       "2016-01-13  289.950012  293.000000  276.450012  288.700012  269.955444   \n",
       "2016-01-14  282.000000  293.500000  280.149994  288.700012  269.955444   \n",
       "\n",
       "             Volume        EMA5       EMA21  \n",
       "Date                                         \n",
       "2016-01-01   674414  298.521912  298.521912  \n",
       "2016-01-04  1083585  294.797201  297.506081  \n",
       "2016-01-05  1104220  291.488071  296.357330  \n",
       "2016-01-06  1090119  289.609245  295.402263  \n",
       "2016-01-07  1851263  282.886551  293.042163  \n",
       "2016-01-08  1362284  281.054118  291.619171  \n",
       "2016-01-11   997085  280.377957  290.474304  \n",
       "2016-01-12  1420695  276.498574  288.498440  \n",
       "2016-01-13  1878302  274.317530  286.812714  \n",
       "2016-01-14  1154298  272.863502  285.280235  "
      ]
     },
     "execution_count": 11,
     "metadata": {},
     "output_type": "execute_result"
    }
   ],
   "source": [
    "voltas.head(10)"
   ]
  },
  {
   "cell_type": "code",
   "execution_count": 12,
   "id": "9e9fb1a9",
   "metadata": {},
   "outputs": [
    {
     "data": {
      "text/plain": [
       "<Axes: xlabel='Date'>"
      ]
     },
     "execution_count": 12,
     "metadata": {},
     "output_type": "execute_result"
    },
    {
     "data": {
      "image/png": "[encoded data removed]",
      "text/plain": [
       "<Figure size 640x480 with 1 Axes>"
      ]
     },
     "metadata": {},
     "output_type": "display_data"
    }
   ],
   "source": [
    "voltas[['Adj Close', 'EMA5', 'EMA21']].plot()"
   ]
  },
  {
   "cell_type": "code",
   "execution_count": 13,
   "id": "6c47ac4d",
   "metadata": {},
   "outputs": [
    {
     "data": {
      "text/plain": [
       "(array([19539., 19570., 19601., 19631., 19662., 19692.]),\n",
       " [Text(19539.0, 0, '2023-07'),\n",
       "  Text(19570.0, 0, '2023-08'),\n",
       "  Text(19601.0, 0, '2023-09'),\n",
       "  Text(19631.0, 0, '2023-10'),\n",
       "  Text(19662.0, 0, '2023-11'),\n",
       "  Text(19692.0, 0, '2023-12')])"
      ]
     },
     "execution_count": 13,
     "metadata": {},
     "output_type": "execute_result"
    },
    {
     "data": {
      "image/png": "[encoded data removed]",
      "text/plain": [
       "<Figure size 640x480 with 1 Axes>"
      ]
     },
     "metadata": {},
     "output_type": "display_data"
    }
   ],
   "source": [
    "voltas.loc['2023-07-01':'2023-12-08'][['Adj Close','EMA5','EMA21']].plot()\n",
    "plt.xticks(rotation=45)"
   ]
  },
  {
   "cell_type": "markdown",
   "id": "da78a57c",
   "metadata": {},
   "source": [
    "\n",
    "Traders and analysts commonly use Exponential Moving Averages (EMAs) with different time periods to analyze trends, identify potential entry or exit points, and make trading decisions.When a short-term EMA (e.g., 5-day) crosses above a longer-term EMA (e.g., 21-day), it may be interpreted as a bullish signal, indicating the potential start of an upward trend. Conversely, a crossover in the opposite direction may signal a potential bearish trend.\n"
   ]
  },
  {
   "cell_type": "code",
   "execution_count": 14,
   "id": "75da8c89",
   "metadata": {},
   "outputs": [],
   "source": [
    "voltas['signal']=np.where((voltas.EMA5>voltas.EMA21) & (voltas.EMA5.shift(1)<voltas.EMA21.shift(1)),1,\n",
    "                   np.where((voltas.EMA5<voltas.EMA21) & (voltas.EMA5.shift(1)>voltas.EMA21.shift(1)),-1,0))"
   ]
  },
  {
   "cell_type": "code",
   "execution_count": 15,
   "id": "94cb7cd5",
   "metadata": {},
   "outputs": [
    {
     "data": {
      "text/html": [
       "<div>\n",
       "<style scoped>\n",
       "    .dataframe tbody tr th:only-of-type {\n",
       "        vertical-align: middle;\n",
       "    }\n",
       "\n",
       "    .dataframe tbody tr th {\n",
       "        vertical-align: top;\n",
       "    }\n",
       "\n",
       "    .dataframe thead th {\n",
       "        text-align: right;\n",
       "    }\n",
       "</style>\n",
       "<table border=\"1\" class=\"dataframe\">\n",
       "  <thead>\n",
       "    <tr style=\"text-align: right;\">\n",
       "      <th></th>\n",
       "      <th>Open</th>\n",
       "      <th>High</th>\n",
       "      <th>Low</th>\n",
       "      <th>Close</th>\n",
       "      <th>Adj Close</th>\n",
       "      <th>Volume</th>\n",
       "      <th>EMA5</th>\n",
       "      <th>EMA21</th>\n",
       "      <th>signal</th>\n",
       "    </tr>\n",
       "    <tr>\n",
       "      <th>Date</th>\n",
       "      <th></th>\n",
       "      <th></th>\n",
       "      <th></th>\n",
       "      <th></th>\n",
       "      <th></th>\n",
       "      <th></th>\n",
       "      <th></th>\n",
       "      <th></th>\n",
       "      <th></th>\n",
       "    </tr>\n",
       "  </thead>\n",
       "  <tbody>\n",
       "    <tr>\n",
       "      <th>2016-01-01</th>\n",
       "      <td>324.000000</td>\n",
       "      <td>324.500000</td>\n",
       "      <td>316.250000</td>\n",
       "      <td>319.250000</td>\n",
       "      <td>298.521912</td>\n",
       "      <td>674414</td>\n",
       "      <td>298.521912</td>\n",
       "      <td>298.521912</td>\n",
       "      <td>0</td>\n",
       "    </tr>\n",
       "    <tr>\n",
       "      <th>2016-01-04</th>\n",
       "      <td>318.500000</td>\n",
       "      <td>320.000000</td>\n",
       "      <td>303.500000</td>\n",
       "      <td>307.299988</td>\n",
       "      <td>287.347778</td>\n",
       "      <td>1083585</td>\n",
       "      <td>294.797201</td>\n",
       "      <td>297.506081</td>\n",
       "      <td>0</td>\n",
       "    </tr>\n",
       "    <tr>\n",
       "      <th>2016-01-05</th>\n",
       "      <td>309.000000</td>\n",
       "      <td>309.750000</td>\n",
       "      <td>303.149994</td>\n",
       "      <td>304.649994</td>\n",
       "      <td>284.869812</td>\n",
       "      <td>1104220</td>\n",
       "      <td>291.488071</td>\n",
       "      <td>296.357330</td>\n",
       "      <td>0</td>\n",
       "    </tr>\n",
       "    <tr>\n",
       "      <th>2016-01-06</th>\n",
       "      <td>303.899994</td>\n",
       "      <td>309.850006</td>\n",
       "      <td>301.200012</td>\n",
       "      <td>305.700012</td>\n",
       "      <td>285.851593</td>\n",
       "      <td>1090119</td>\n",
       "      <td>289.609245</td>\n",
       "      <td>295.402263</td>\n",
       "      <td>0</td>\n",
       "    </tr>\n",
       "    <tr>\n",
       "      <th>2016-01-07</th>\n",
       "      <td>302.149994</td>\n",
       "      <td>302.450012</td>\n",
       "      <td>286.250000</td>\n",
       "      <td>288.149994</td>\n",
       "      <td>269.441162</td>\n",
       "      <td>1851263</td>\n",
       "      <td>282.886551</td>\n",
       "      <td>293.042163</td>\n",
       "      <td>0</td>\n",
       "    </tr>\n",
       "  </tbody>\n",
       "</table>\n",
       "</div>"
      ],
      "text/plain": [
       "                  Open        High         Low       Close   Adj Close  \\\n",
       "Date                                                                     \n",
       "2016-01-01  324.000000  324.500000  316.250000  319.250000  298.521912   \n",
       "2016-01-04  318.500000  320.000000  303.500000  307.299988  287.347778   \n",
       "2016-01-05  309.000000  309.750000  303.149994  304.649994  284.869812   \n",
       "2016-01-06  303.899994  309.850006  301.200012  305.700012  285.851593   \n",
       "2016-01-07  302.149994  302.450012  286.250000  288.149994  269.441162   \n",
       "\n",
       "             Volume        EMA5       EMA21  signal  \n",
       "Date                                                 \n",
       "2016-01-01   674414  298.521912  298.521912       0  \n",
       "2016-01-04  1083585  294.797201  297.506081       0  \n",
       "2016-01-05  1104220  291.488071  296.357330       0  \n",
       "2016-01-06  1090119  289.609245  295.402263       0  \n",
       "2016-01-07  1851263  282.886551  293.042163       0  "
      ]
     },
     "execution_count": 15,
     "metadata": {},
     "output_type": "execute_result"
    }
   ],
   "source": [
    "voltas.head()"
   ]
  },
  {
   "cell_type": "code",
   "execution_count": 16,
   "id": "2dacb029",
   "metadata": {},
   "outputs": [],
   "source": [
    "voltas.signal=voltas.signal.shift(1)"
   ]
  },
  {
   "cell_type": "code",
   "execution_count": 17,
   "id": "587d982a",
   "metadata": {},
   "outputs": [
    {
     "data": {
      "text/html": [
       "<div>\n",
       "<style scoped>\n",
       "    .dataframe tbody tr th:only-of-type {\n",
       "        vertical-align: middle;\n",
       "    }\n",
       "\n",
       "    .dataframe tbody tr th {\n",
       "        vertical-align: top;\n",
       "    }\n",
       "\n",
       "    .dataframe thead th {\n",
       "        text-align: right;\n",
       "    }\n",
       "</style>\n",
       "<table border=\"1\" class=\"dataframe\">\n",
       "  <thead>\n",
       "    <tr style=\"text-align: right;\">\n",
       "      <th></th>\n",
       "      <th>Open</th>\n",
       "      <th>High</th>\n",
       "      <th>Low</th>\n",
       "      <th>Close</th>\n",
       "      <th>Adj Close</th>\n",
       "      <th>Volume</th>\n",
       "      <th>EMA5</th>\n",
       "      <th>EMA21</th>\n",
       "      <th>signal</th>\n",
       "    </tr>\n",
       "    <tr>\n",
       "      <th>Date</th>\n",
       "      <th></th>\n",
       "      <th></th>\n",
       "      <th></th>\n",
       "      <th></th>\n",
       "      <th></th>\n",
       "      <th></th>\n",
       "      <th></th>\n",
       "      <th></th>\n",
       "      <th></th>\n",
       "    </tr>\n",
       "  </thead>\n",
       "  <tbody>\n",
       "    <tr>\n",
       "      <th>2016-01-01</th>\n",
       "      <td>324.000000</td>\n",
       "      <td>324.500000</td>\n",
       "      <td>316.250000</td>\n",
       "      <td>319.250000</td>\n",
       "      <td>298.521912</td>\n",
       "      <td>674414</td>\n",
       "      <td>298.521912</td>\n",
       "      <td>298.521912</td>\n",
       "      <td>NaN</td>\n",
       "    </tr>\n",
       "    <tr>\n",
       "      <th>2016-01-04</th>\n",
       "      <td>318.500000</td>\n",
       "      <td>320.000000</td>\n",
       "      <td>303.500000</td>\n",
       "      <td>307.299988</td>\n",
       "      <td>287.347778</td>\n",
       "      <td>1083585</td>\n",
       "      <td>294.797201</td>\n",
       "      <td>297.506081</td>\n",
       "      <td>0.0</td>\n",
       "    </tr>\n",
       "    <tr>\n",
       "      <th>2016-01-05</th>\n",
       "      <td>309.000000</td>\n",
       "      <td>309.750000</td>\n",
       "      <td>303.149994</td>\n",
       "      <td>304.649994</td>\n",
       "      <td>284.869812</td>\n",
       "      <td>1104220</td>\n",
       "      <td>291.488071</td>\n",
       "      <td>296.357330</td>\n",
       "      <td>0.0</td>\n",
       "    </tr>\n",
       "    <tr>\n",
       "      <th>2016-01-06</th>\n",
       "      <td>303.899994</td>\n",
       "      <td>309.850006</td>\n",
       "      <td>301.200012</td>\n",
       "      <td>305.700012</td>\n",
       "      <td>285.851593</td>\n",
       "      <td>1090119</td>\n",
       "      <td>289.609245</td>\n",
       "      <td>295.402263</td>\n",
       "      <td>0.0</td>\n",
       "    </tr>\n",
       "    <tr>\n",
       "      <th>2016-01-07</th>\n",
       "      <td>302.149994</td>\n",
       "      <td>302.450012</td>\n",
       "      <td>286.250000</td>\n",
       "      <td>288.149994</td>\n",
       "      <td>269.441162</td>\n",
       "      <td>1851263</td>\n",
       "      <td>282.886551</td>\n",
       "      <td>293.042163</td>\n",
       "      <td>0.0</td>\n",
       "    </tr>\n",
       "  </tbody>\n",
       "</table>\n",
       "</div>"
      ],
      "text/plain": [
       "                  Open        High         Low       Close   Adj Close  \\\n",
       "Date                                                                     \n",
       "2016-01-01  324.000000  324.500000  316.250000  319.250000  298.521912   \n",
       "2016-01-04  318.500000  320.000000  303.500000  307.299988  287.347778   \n",
       "2016-01-05  309.000000  309.750000  303.149994  304.649994  284.869812   \n",
       "2016-01-06  303.899994  309.850006  301.200012  305.700012  285.851593   \n",
       "2016-01-07  302.149994  302.450012  286.250000  288.149994  269.441162   \n",
       "\n",
       "             Volume        EMA5       EMA21  signal  \n",
       "Date                                                 \n",
       "2016-01-01   674414  298.521912  298.521912     NaN  \n",
       "2016-01-04  1083585  294.797201  297.506081     0.0  \n",
       "2016-01-05  1104220  291.488071  296.357330     0.0  \n",
       "2016-01-06  1090119  289.609245  295.402263     0.0  \n",
       "2016-01-07  1851263  282.886551  293.042163     0.0  "
      ]
     },
     "execution_count": 17,
     "metadata": {},
     "output_type": "execute_result"
    }
   ],
   "source": [
    "voltas.head()"
   ]
  },
  {
   "cell_type": "code",
   "execution_count": 18,
   "id": "a76947ac",
   "metadata": {},
   "outputs": [
    {
     "data": {
      "text/plain": [
       " 0.0    1849\n",
       " 1.0      56\n",
       "-1.0      55\n",
       "Name: signal, dtype: int64"
      ]
     },
     "execution_count": 18,
     "metadata": {},
     "output_type": "execute_result"
    }
   ],
   "source": [
    "voltas.signal.value_counts()"
   ]
  },
  {
   "cell_type": "code",
   "execution_count": 19,
   "id": "8c815412",
   "metadata": {},
   "outputs": [],
   "source": [
    "voltas['return']= voltas['Adj Close'].pct_change()"
   ]
  },
  {
   "cell_type": "code",
   "execution_count": 20,
   "id": "639717e6",
   "metadata": {},
   "outputs": [
    {
     "data": {
      "text/html": [
       "<div>\n",
       "<style scoped>\n",
       "    .dataframe tbody tr th:only-of-type {\n",
       "        vertical-align: middle;\n",
       "    }\n",
       "\n",
       "    .dataframe tbody tr th {\n",
       "        vertical-align: top;\n",
       "    }\n",
       "\n",
       "    .dataframe thead th {\n",
       "        text-align: right;\n",
       "    }\n",
       "</style>\n",
       "<table border=\"1\" class=\"dataframe\">\n",
       "  <thead>\n",
       "    <tr style=\"text-align: right;\">\n",
       "      <th></th>\n",
       "      <th>Open</th>\n",
       "      <th>High</th>\n",
       "      <th>Low</th>\n",
       "      <th>Close</th>\n",
       "      <th>Adj Close</th>\n",
       "      <th>Volume</th>\n",
       "      <th>EMA5</th>\n",
       "      <th>EMA21</th>\n",
       "      <th>signal</th>\n",
       "      <th>return</th>\n",
       "    </tr>\n",
       "    <tr>\n",
       "      <th>Date</th>\n",
       "      <th></th>\n",
       "      <th></th>\n",
       "      <th></th>\n",
       "      <th></th>\n",
       "      <th></th>\n",
       "      <th></th>\n",
       "      <th></th>\n",
       "      <th></th>\n",
       "      <th></th>\n",
       "      <th></th>\n",
       "    </tr>\n",
       "  </thead>\n",
       "  <tbody>\n",
       "    <tr>\n",
       "      <th>2016-01-01</th>\n",
       "      <td>324.000000</td>\n",
       "      <td>324.500000</td>\n",
       "      <td>316.250000</td>\n",
       "      <td>319.250000</td>\n",
       "      <td>298.521912</td>\n",
       "      <td>674414</td>\n",
       "      <td>298.521912</td>\n",
       "      <td>298.521912</td>\n",
       "      <td>NaN</td>\n",
       "      <td>NaN</td>\n",
       "    </tr>\n",
       "    <tr>\n",
       "      <th>2016-01-04</th>\n",
       "      <td>318.500000</td>\n",
       "      <td>320.000000</td>\n",
       "      <td>303.500000</td>\n",
       "      <td>307.299988</td>\n",
       "      <td>287.347778</td>\n",
       "      <td>1083585</td>\n",
       "      <td>294.797201</td>\n",
       "      <td>297.506081</td>\n",
       "      <td>0.0</td>\n",
       "      <td>-0.037432</td>\n",
       "    </tr>\n",
       "    <tr>\n",
       "      <th>2016-01-05</th>\n",
       "      <td>309.000000</td>\n",
       "      <td>309.750000</td>\n",
       "      <td>303.149994</td>\n",
       "      <td>304.649994</td>\n",
       "      <td>284.869812</td>\n",
       "      <td>1104220</td>\n",
       "      <td>291.488071</td>\n",
       "      <td>296.357330</td>\n",
       "      <td>0.0</td>\n",
       "      <td>-0.008624</td>\n",
       "    </tr>\n",
       "    <tr>\n",
       "      <th>2016-01-06</th>\n",
       "      <td>303.899994</td>\n",
       "      <td>309.850006</td>\n",
       "      <td>301.200012</td>\n",
       "      <td>305.700012</td>\n",
       "      <td>285.851593</td>\n",
       "      <td>1090119</td>\n",
       "      <td>289.609245</td>\n",
       "      <td>295.402263</td>\n",
       "      <td>0.0</td>\n",
       "      <td>0.003446</td>\n",
       "    </tr>\n",
       "    <tr>\n",
       "      <th>2016-01-07</th>\n",
       "      <td>302.149994</td>\n",
       "      <td>302.450012</td>\n",
       "      <td>286.250000</td>\n",
       "      <td>288.149994</td>\n",
       "      <td>269.441162</td>\n",
       "      <td>1851263</td>\n",
       "      <td>282.886551</td>\n",
       "      <td>293.042163</td>\n",
       "      <td>0.0</td>\n",
       "      <td>-0.057409</td>\n",
       "    </tr>\n",
       "  </tbody>\n",
       "</table>\n",
       "</div>"
      ],
      "text/plain": [
       "                  Open        High         Low       Close   Adj Close  \\\n",
       "Date                                                                     \n",
       "2016-01-01  324.000000  324.500000  316.250000  319.250000  298.521912   \n",
       "2016-01-04  318.500000  320.000000  303.500000  307.299988  287.347778   \n",
       "2016-01-05  309.000000  309.750000  303.149994  304.649994  284.869812   \n",
       "2016-01-06  303.899994  309.850006  301.200012  305.700012  285.851593   \n",
       "2016-01-07  302.149994  302.450012  286.250000  288.149994  269.441162   \n",
       "\n",
       "             Volume        EMA5       EMA21  signal    return  \n",
       "Date                                                           \n",
       "2016-01-01   674414  298.521912  298.521912     NaN       NaN  \n",
       "2016-01-04  1083585  294.797201  297.506081     0.0 -0.037432  \n",
       "2016-01-05  1104220  291.488071  296.357330     0.0 -0.008624  \n",
       "2016-01-06  1090119  289.609245  295.402263     0.0  0.003446  \n",
       "2016-01-07  1851263  282.886551  293.042163     0.0 -0.057409  "
      ]
     },
     "execution_count": 20,
     "metadata": {},
     "output_type": "execute_result"
    }
   ],
   "source": [
    "voltas.head()"
   ]
  },
  {
   "cell_type": "code",
   "execution_count": 21,
   "id": "ba3e105e",
   "metadata": {},
   "outputs": [],
   "source": [
    "voltas.dropna(inplace=True)"
   ]
  },
  {
   "cell_type": "code",
   "execution_count": 22,
   "id": "a64c93b2",
   "metadata": {},
   "outputs": [
    {
     "data": {
      "text/html": [
       "<div>\n",
       "<style scoped>\n",
       "    .dataframe tbody tr th:only-of-type {\n",
       "        vertical-align: middle;\n",
       "    }\n",
       "\n",
       "    .dataframe tbody tr th {\n",
       "        vertical-align: top;\n",
       "    }\n",
       "\n",
       "    .dataframe thead th {\n",
       "        text-align: right;\n",
       "    }\n",
       "</style>\n",
       "<table border=\"1\" class=\"dataframe\">\n",
       "  <thead>\n",
       "    <tr style=\"text-align: right;\">\n",
       "      <th></th>\n",
       "      <th>Open</th>\n",
       "      <th>High</th>\n",
       "      <th>Low</th>\n",
       "      <th>Close</th>\n",
       "      <th>Adj Close</th>\n",
       "      <th>Volume</th>\n",
       "      <th>EMA5</th>\n",
       "      <th>EMA21</th>\n",
       "      <th>signal</th>\n",
       "      <th>return</th>\n",
       "    </tr>\n",
       "    <tr>\n",
       "      <th>Date</th>\n",
       "      <th></th>\n",
       "      <th></th>\n",
       "      <th></th>\n",
       "      <th></th>\n",
       "      <th></th>\n",
       "      <th></th>\n",
       "      <th></th>\n",
       "      <th></th>\n",
       "      <th></th>\n",
       "      <th></th>\n",
       "    </tr>\n",
       "  </thead>\n",
       "  <tbody>\n",
       "    <tr>\n",
       "      <th>2016-01-04</th>\n",
       "      <td>318.500000</td>\n",
       "      <td>320.000000</td>\n",
       "      <td>303.500000</td>\n",
       "      <td>307.299988</td>\n",
       "      <td>287.347778</td>\n",
       "      <td>1083585</td>\n",
       "      <td>294.797201</td>\n",
       "      <td>297.506081</td>\n",
       "      <td>0.0</td>\n",
       "      <td>-0.037432</td>\n",
       "    </tr>\n",
       "    <tr>\n",
       "      <th>2016-01-05</th>\n",
       "      <td>309.000000</td>\n",
       "      <td>309.750000</td>\n",
       "      <td>303.149994</td>\n",
       "      <td>304.649994</td>\n",
       "      <td>284.869812</td>\n",
       "      <td>1104220</td>\n",
       "      <td>291.488071</td>\n",
       "      <td>296.357330</td>\n",
       "      <td>0.0</td>\n",
       "      <td>-0.008624</td>\n",
       "    </tr>\n",
       "    <tr>\n",
       "      <th>2016-01-06</th>\n",
       "      <td>303.899994</td>\n",
       "      <td>309.850006</td>\n",
       "      <td>301.200012</td>\n",
       "      <td>305.700012</td>\n",
       "      <td>285.851593</td>\n",
       "      <td>1090119</td>\n",
       "      <td>289.609245</td>\n",
       "      <td>295.402263</td>\n",
       "      <td>0.0</td>\n",
       "      <td>0.003446</td>\n",
       "    </tr>\n",
       "    <tr>\n",
       "      <th>2016-01-07</th>\n",
       "      <td>302.149994</td>\n",
       "      <td>302.450012</td>\n",
       "      <td>286.250000</td>\n",
       "      <td>288.149994</td>\n",
       "      <td>269.441162</td>\n",
       "      <td>1851263</td>\n",
       "      <td>282.886551</td>\n",
       "      <td>293.042163</td>\n",
       "      <td>0.0</td>\n",
       "      <td>-0.057409</td>\n",
       "    </tr>\n",
       "    <tr>\n",
       "      <th>2016-01-08</th>\n",
       "      <td>289.899994</td>\n",
       "      <td>299.799988</td>\n",
       "      <td>289.899994</td>\n",
       "      <td>296.649994</td>\n",
       "      <td>277.389252</td>\n",
       "      <td>1362284</td>\n",
       "      <td>281.054118</td>\n",
       "      <td>291.619171</td>\n",
       "      <td>0.0</td>\n",
       "      <td>0.029498</td>\n",
       "    </tr>\n",
       "  </tbody>\n",
       "</table>\n",
       "</div>"
      ],
      "text/plain": [
       "                  Open        High         Low       Close   Adj Close  \\\n",
       "Date                                                                     \n",
       "2016-01-04  318.500000  320.000000  303.500000  307.299988  287.347778   \n",
       "2016-01-05  309.000000  309.750000  303.149994  304.649994  284.869812   \n",
       "2016-01-06  303.899994  309.850006  301.200012  305.700012  285.851593   \n",
       "2016-01-07  302.149994  302.450012  286.250000  288.149994  269.441162   \n",
       "2016-01-08  289.899994  299.799988  289.899994  296.649994  277.389252   \n",
       "\n",
       "             Volume        EMA5       EMA21  signal    return  \n",
       "Date                                                           \n",
       "2016-01-04  1083585  294.797201  297.506081     0.0 -0.037432  \n",
       "2016-01-05  1104220  291.488071  296.357330     0.0 -0.008624  \n",
       "2016-01-06  1090119  289.609245  295.402263     0.0  0.003446  \n",
       "2016-01-07  1851263  282.886551  293.042163     0.0 -0.057409  \n",
       "2016-01-08  1362284  281.054118  291.619171     0.0  0.029498  "
      ]
     },
     "execution_count": 22,
     "metadata": {},
     "output_type": "execute_result"
    }
   ],
   "source": [
    "voltas.head()"
   ]
  },
  {
   "cell_type": "code",
   "execution_count": 23,
   "id": "5eb3400b",
   "metadata": {},
   "outputs": [
    {
     "name": "stdout",
     "output_type": "stream",
     "text": [
      "0.18338059594298511\n"
     ]
    }
   ],
   "source": [
    "AnnualReturn = voltas['return'].mean()*252\n",
    "print(AnnualReturn)"
   ]
  },
  {
   "cell_type": "code",
   "execution_count": 24,
   "id": "f793ca1c",
   "metadata": {},
   "outputs": [
    {
     "name": "stdout",
     "output_type": "stream",
     "text": [
      "0.3096950469155072\n"
     ]
    }
   ],
   "source": [
    "Annual_sd=voltas['return'].std()*np.sqrt(252)\n",
    "print(Annual_sd)"
   ]
  },
  {
   "cell_type": "code",
   "execution_count": 25,
   "id": "655fb0a5",
   "metadata": {},
   "outputs": [
    {
     "data": {
      "text/plain": [
       "0.36610400157261236"
      ]
     },
     "execution_count": 25,
     "metadata": {},
     "output_type": "execute_result"
    }
   ],
   "source": [
    "# Sharpe Ratio\n",
    "sharpe_ratio = (AnnualReturn-.07)/Annual_sd\n",
    "sharpe_ratio"
   ]
  },
  {
   "cell_type": "markdown",
   "id": "96aa3c05",
   "metadata": {},
   "source": [
    "### Creating a time series object"
   ]
  },
  {
   "cell_type": "code",
   "execution_count": null,
   "id": "015a3664",
   "metadata": {},
   "outputs": [],
   "source": [
    "range_date = pd.date_range(start ='1/1/2019', end ='1/1/2020',freq ='M')\n",
    "range_date"
   ]
  },
  {
   "cell_type": "code",
   "execution_count": null,
   "id": "2eeeddf4",
   "metadata": {},
   "outputs": [],
   "source": [
    "pd.date_range(start ='2019-01-01', end ='2020-01-01',freq ='M')"
   ]
  },
  {
   "cell_type": "code",
   "execution_count": null,
   "id": "af23b63e",
   "metadata": {},
   "outputs": [],
   "source": [
    "range_date.shape"
   ]
  },
  {
   "cell_type": "code",
   "execution_count": null,
   "id": "85756d1b",
   "metadata": {},
   "outputs": [],
   "source": [
    "type(range_date)"
   ]
  },
  {
   "cell_type": "code",
   "execution_count": null,
   "id": "78edb13a",
   "metadata": {},
   "outputs": [],
   "source": [
    "df = pd.DataFrame(range_date, columns =['date'])\n",
    "df.head(6)"
   ]
  },
  {
   "cell_type": "code",
   "execution_count": null,
   "id": "6de085d7",
   "metadata": {},
   "outputs": [],
   "source": [
    "np.random.seed(7)\n",
    "df['data'] = np.random.randint(0, 100, size =(len(range_date)))"
   ]
  },
  {
   "cell_type": "code",
   "execution_count": null,
   "id": "6cd9f22c",
   "metadata": {},
   "outputs": [],
   "source": [
    "print(df)"
   ]
  },
  {
   "cell_type": "code",
   "execution_count": null,
   "id": "ef297a70",
   "metadata": {},
   "outputs": [],
   "source": [
    "range_date = pd.date_range(start ='1/1/2019', end ='8/1/2020',freq ='W')\n",
    "df = pd.DataFrame(range_date, columns =['date'])\n",
    "df.head()\n",
    "df['data'] = np.random.randint(0, 100, size =(len(range_date)))\n",
    "\n",
    "print(df.head(10))"
   ]
  },
  {
   "cell_type": "code",
   "execution_count": null,
   "id": "e5412780",
   "metadata": {},
   "outputs": [],
   "source": [
    "range_date = pd.date_range(start ='1/1/2019', end ='1/3/2020',freq ='min')\n",
    "df = pd.DataFrame(range_date, columns =['date'])\n",
    "df.head()\n",
    "df['data'] = np.random.randint(0, 100, size =(len(range_date)))\n",
    "\n",
    "print(df.head(10))"
   ]
  },
  {
   "cell_type": "code",
   "execution_count": null,
   "id": "cbdf9820",
   "metadata": {},
   "outputs": [],
   "source": [
    "range_date = pd.date_range(start ='1/1/2019', end ='8/1/2020',freq ='D')\n",
    "df = pd.DataFrame(range_date, columns =['date'])\n",
    "df.head()\n",
    "df['data'] = np.random.randint(0, 100, size =(len(range_date)))\n",
    "\n",
    "print(df.head(10))"
   ]
  },
  {
   "cell_type": "code",
   "execution_count": null,
   "id": "527a53e8",
   "metadata": {},
   "outputs": [],
   "source": [
    "df.set_index('date').plot(figsize=(8,4))"
   ]
  },
  {
   "cell_type": "code",
   "execution_count": null,
   "id": "6aae844b",
   "metadata": {},
   "outputs": [],
   "source": [
    "range_date = pd.date_range(start ='1/1/2019', end ='8/1/2025',freq ='Y')\n",
    "df = pd.DataFrame(range_date, columns =['date'])\n",
    "df.head()\n",
    "df['data'] = np.random.randint(0, 100, size =(len(range_date)))\n",
    "\n",
    "print(df.head(10))"
   ]
  },
  {
   "cell_type": "code",
   "execution_count": null,
   "id": "7ddda8ae",
   "metadata": {},
   "outputs": [],
   "source": [
    "df = df.set_index('date')\n",
    "df"
   ]
  },
  {
   "cell_type": "code",
   "execution_count": null,
   "id": "2345683a",
   "metadata": {},
   "outputs": [],
   "source": [
    "print(df[1:5])\n"
   ]
  },
  {
   "cell_type": "code",
   "execution_count": null,
   "id": "5e98b4bc",
   "metadata": {},
   "outputs": [],
   "source": [
    "pd.date_range(start='1/1/2020', end='1/11/2020')"
   ]
  },
  {
   "cell_type": "code",
   "execution_count": null,
   "id": "f387555f",
   "metadata": {},
   "outputs": [],
   "source": [
    "pd.date_range(start='1/1/2020', end='1/11/2020', periods=4)\n",
    "\n"
   ]
  },
  {
   "cell_type": "code",
   "execution_count": null,
   "id": "5013aab7",
   "metadata": {},
   "outputs": [],
   "source": [
    "pd.date_range(start='1/1/2020',  periods=5)\n"
   ]
  },
  {
   "cell_type": "code",
   "execution_count": null,
   "id": "15de4b66",
   "metadata": {},
   "outputs": [],
   "source": [
    "df1=pd.date_range(start='1/1/2020',  periods=5, freq='W')\n",
    "df1"
   ]
  },
  {
   "cell_type": "code",
   "execution_count": null,
   "id": "37378f9d",
   "metadata": {},
   "outputs": [],
   "source": [
    "df2 = pd.DataFrame(df1, columns =['date'])\n",
    "\n",
    "df2['data'] = ['a','b','c','d','e']\n",
    "df2\n"
   ]
  },
  {
   "cell_type": "code",
   "execution_count": null,
   "id": "872028af",
   "metadata": {},
   "outputs": [],
   "source": [
    "df3=pd.read_csv('C:/Users/RISHI/Desktop/module 4/time series/quebec_real_estate.csv')\n",
    "df3"
   ]
  },
  {
   "cell_type": "code",
   "execution_count": null,
   "id": "b81bf1e4",
   "metadata": {},
   "outputs": [],
   "source": [
    "#df3=pd.read_csv('C:/Users/RISHI/Desktop/module 4/time series/quebec_real_estate.csv',index_col=0)\n",
    "\n",
    "df3['Date'] = pd.to_datetime(df3['Date'])\n",
    "df3 = df3.set_index(['Date'])\n",
    "df3.head()\n"
   ]
  },
  {
   "cell_type": "code",
   "execution_count": null,
   "id": "96e3434b",
   "metadata": {},
   "outputs": [],
   "source": [
    "data=df3['Montreal_Median_Price']\n",
    "data.head()"
   ]
  },
  {
   "cell_type": "code",
   "execution_count": null,
   "id": "47205262",
   "metadata": {},
   "outputs": [],
   "source": [
    "data.shape"
   ]
  },
  {
   "cell_type": "code",
   "execution_count": null,
   "id": "50052243",
   "metadata": {},
   "outputs": [],
   "source": [
    "data.describe()"
   ]
  },
  {
   "cell_type": "code",
   "execution_count": null,
   "id": "5421381e",
   "metadata": {},
   "outputs": [],
   "source": [
    "data.plot()\n"
   ]
  },
  {
   "cell_type": "code",
   "execution_count": null,
   "id": "998b8cd1",
   "metadata": {},
   "outputs": [],
   "source": [
    "import matplotlib.pyplot as plt\n",
    "plt.plot(data)\n"
   ]
  },
  {
   "cell_type": "code",
   "execution_count": null,
   "id": "42f82f3a",
   "metadata": {},
   "outputs": [],
   "source": [
    "plt.plot(data)\n",
    "plt.xlabel('date')\n",
    "plt.ylabel('price')\n",
    "plt.title('my Plot')\n",
    "plt.grid()"
   ]
  },
  {
   "cell_type": "code",
   "execution_count": null,
   "id": "fadd4418",
   "metadata": {},
   "outputs": [],
   "source": [
    "# differencing using diff command\n",
    "diff = data.diff()\n",
    "plt.plot(diff)\n",
    "plt.show()"
   ]
  },
  {
   "cell_type": "code",
   "execution_count": null,
   "id": "2b669c05",
   "metadata": {},
   "outputs": [],
   "source": [
    "# decomposition of a time series data\n",
    "from statsmodels.tsa.seasonal import seasonal_decompose\n",
    "output = seasonal_decompose(data, model=\"additive\",period=12)\n",
    "output"
   ]
  },
  {
   "cell_type": "code",
   "execution_count": null,
   "id": "9551cb73",
   "metadata": {},
   "outputs": [],
   "source": [
    "output.plot()\n",
    "output.trend.plot()\n",
    "output.seasonal.plot()"
   ]
  },
  {
   "cell_type": "code",
   "execution_count": null,
   "id": "576cb43e",
   "metadata": {},
   "outputs": [],
   "source": [
    "df3=pd.read_csv('C:/Users/RISHI/Desktop/module 4/time series/AirPassengers.csv',index_col=0)"
   ]
  },
  {
   "cell_type": "code",
   "execution_count": null,
   "id": "7172f531",
   "metadata": {},
   "outputs": [],
   "source": [
    "df3.info()"
   ]
  },
  {
   "cell_type": "code",
   "execution_count": null,
   "id": "b8b5b1b5",
   "metadata": {},
   "outputs": [],
   "source": [
    "df3.plot()"
   ]
  },
  {
   "cell_type": "code",
   "execution_count": null,
   "id": "9fe962aa",
   "metadata": {},
   "outputs": [],
   "source": [
    "df3"
   ]
  },
  {
   "cell_type": "code",
   "execution_count": null,
   "id": "54054271",
   "metadata": {},
   "outputs": [],
   "source": [
    "#saving your time plot; the chart will be saved to your working directory\n",
    "plt.plot(df3)\n",
    "plt.savefig('myChart.png')"
   ]
  },
  {
   "cell_type": "code",
   "execution_count": null,
   "id": "c042e474",
   "metadata": {},
   "outputs": [],
   "source": [
    "pwd"
   ]
  },
  {
   "cell_type": "markdown",
   "id": "b6cd1939",
   "metadata": {},
   "source": [
    "Moving Average or Rolling Window method"
   ]
  },
  {
   "cell_type": "code",
   "execution_count": null,
   "id": "400bd7a6",
   "metadata": {},
   "outputs": [],
   "source": [
    "wsb_df=pd.read_csv(\"C:/Users/RISHI/Desktop/module 4/time series/wsb.csv\")"
   ]
  },
  {
   "cell_type": "code",
   "execution_count": null,
   "id": "b1e8065e",
   "metadata": {},
   "outputs": [],
   "source": [
    "wsb_df.head()"
   ]
  },
  {
   "cell_type": "code",
   "execution_count": null,
   "id": "1820f812",
   "metadata": {},
   "outputs": [],
   "source": [
    "%matplotlib inline\n",
    "plt.plot(wsb_df['Sale Quantity'])\n",
    "plt.xlabel('Months')\n",
    "plt.ylabel('Quantity')"
   ]
  },
  {
   "cell_type": "code",
   "execution_count": null,
   "id": "4153fe3c",
   "metadata": {},
   "outputs": [],
   "source": [
    "wsb_df.info() "
   ]
  },
  {
   "cell_type": "code",
   "execution_count": null,
   "id": "796b19d3",
   "metadata": {},
   "outputs": [],
   "source": [
    "#rolling function is available in pandas\n",
    "wsb_df['mavg_12'] = wsb_df['Sale Quantity'].rolling( window = 12 ).mean().shift(1) "
   ]
  },
  {
   "cell_type": "code",
   "execution_count": null,
   "id": "9246a987",
   "metadata": {},
   "outputs": [],
   "source": [
    "wsb_df"
   ]
  },
  {
   "cell_type": "code",
   "execution_count": null,
   "id": "b6592a90",
   "metadata": {},
   "outputs": [],
   "source": [
    "wsb_df[['Sale Quantity', 'mavg_12']][12:]"
   ]
  },
  {
   "cell_type": "code",
   "execution_count": null,
   "id": "5db5dc33",
   "metadata": {},
   "outputs": [],
   "source": [
    "plt.figure( figsize=(10,4)) \n",
    "plt.xlabel( \"Months\" ) \n",
    "plt.ylabel( \"Quantity\" ) \n",
    "plt.plot( wsb_df['Sale Quantity'][12:] ); \n",
    "plt.plot( wsb_df['mavg_12'][12:] )"
   ]
  },
  {
   "cell_type": "markdown",
   "id": "1502cd29",
   "metadata": {},
   "source": [
    "Calculating forecast accuracy"
   ]
  },
  {
   "cell_type": "code",
   "execution_count": null,
   "id": "1d97b0f2",
   "metadata": {},
   "outputs": [],
   "source": [
    "#Root mean square error\n",
    "from sklearn.metrics import mean_squared_error \n",
    "np.sqrt(mean_squared_error( wsb_df['Sale Quantity'][12:].values, \n",
    "wsb_df['mavg_12'][12:].values))"
   ]
  },
  {
   "cell_type": "markdown",
   "id": "01c8638b",
   "metadata": {},
   "source": [
    "ARIMA models"
   ]
  },
  {
   "cell_type": "code",
   "execution_count": null,
   "id": "8df706b7",
   "metadata": {},
   "outputs": [],
   "source": [
    "vimana_df=pd.read_csv(\"C:/Users/RISHI/Desktop/module 4/time series/vimana.csv\")"
   ]
  },
  {
   "cell_type": "code",
   "execution_count": null,
   "id": "5b88a9df",
   "metadata": {},
   "outputs": [],
   "source": [
    "vimana_df.head(5)"
   ]
  },
  {
   "cell_type": "markdown",
   "id": "3d7f8a32",
   "metadata": {},
   "source": [
    "ACF and PACF together helps to understand order of AR and MA\n"
   ]
  },
  {
   "cell_type": "markdown",
   "id": "4e34b22f",
   "metadata": {},
   "source": [
    "(i)if PACF is significant for first p-values\n",
    "and (ii) ACF decreases exponentially, then AR(p) is the order"
   ]
  },
  {
   "cell_type": "code",
   "execution_count": null,
   "id": "aac3d29e",
   "metadata": {},
   "outputs": [],
   "source": [
    "from statsmodels.graphics.tsaplots import plot_acf\n",
    "acf_plot = plot_acf( vimana_df.demand) "
   ]
  },
  {
   "cell_type": "code",
   "execution_count": null,
   "id": "5d509d6b",
   "metadata": {},
   "outputs": [],
   "source": [
    "from statsmodels.graphics.tsaplots import plot_pacf \n",
    "\n",
    "pacf_plot = plot_pacf(vimana_df.demand)"
   ]
  },
  {
   "cell_type": "code",
   "execution_count": null,
   "id": "aa2b8cc4",
   "metadata": {},
   "outputs": [],
   "source": []
  }
 ],
 "metadata": {
  "kernelspec": {
   "display_name": "Python 3 (ipykernel)",
   "language": "python",
   "name": "python3"
  },
  "language_info": {
   "codemirror_mode": {
    "name": "ipython",
    "version": 3
   },
   "file_extension": ".py",
   "mimetype": "text/x-python",
   "name": "python",
   "nbconvert_exporter": "python",
   "pygments_lexer": "ipython3",
   "version": "3.11.4"
  }
 },
 "nbformat": 4,
 "nbformat_minor": 5
}
